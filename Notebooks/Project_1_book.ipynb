{
  "nbformat": 4,
  "nbformat_minor": 0,
  "metadata": {
    "colab": {
      "name": "Project 1 book.ipynb",
      "provenance": [],
      "collapsed_sections": [],
      "include_colab_link": true
    },
    "kernelspec": {
      "name": "python3",
      "display_name": "Python 3"
    },
    "language_info": {
      "name": "python"
    }
  },
  "cells": [
    {
      "cell_type": "markdown",
      "metadata": {
        "id": "view-in-github",
        "colab_type": "text"
      },
      "source": [
        "<a href=\"https://colab.research.google.com/github/morprukop/RetailSalesAnalysis/blob/main/Notebooks/Project_1_book.ipynb\" target=\"_parent\"><img src=\"https://colab.research.google.com/assets/colab-badge.svg\" alt=\"Open In Colab\"/></a>"
      ]
    },
    {
      "cell_type": "markdown",
      "source": [
        "# Import Packages and Load Data"
      ],
      "metadata": {
        "id": "JhcLagpzR5u_"
      }
    },
    {
      "cell_type": "markdown",
      "source": [
        "We are importing all packages necessary for our analysis"
      ],
      "metadata": {
        "id": "FQVnFhnbpqll"
      }
    },
    {
      "cell_type": "code",
      "source": [
        "import pandas as pd\n",
        "import seaborn as sns\n",
        "from google.colab import drive\n",
        "import matplotlib.pyplot as plt\n",
        "import numpy as np\n",
        "import matplotlib as mpl\n",
        "from sklearn.linear_model import LinearRegression\n",
        "from sklearn import linear_model\n",
        "import matplotlib.ticker as tick"
      ],
      "metadata": {
        "id": "1jhkOum3ebMQ"
      },
      "execution_count": null,
      "outputs": []
    },
    {
      "cell_type": "code",
      "execution_count": null,
      "metadata": {
        "id": "_F-OAUEYdDBM",
        "colab": {
          "base_uri": "https://localhost:8080/"
        },
        "outputId": "1945d621-42ef-43c6-f203-438cc00aa22d"
      },
      "outputs": [
        {
          "output_type": "stream",
          "name": "stdout",
          "text": [
            "Drive already mounted at /content/drive; to attempt to forcibly remount, call drive.mount(\"/content/drive\", force_remount=True).\n"
          ]
        }
      ],
      "source": [
        "from google.colab import drive\n",
        "drive.mount('/content/drive')"
      ]
    },
    {
      "cell_type": "markdown",
      "source": [
        "## Set Date Column to `datetime` for Both Files"
      ],
      "metadata": {
        "id": "eIV_NCs6SIEj"
      }
    },
    {
      "cell_type": "markdown",
      "source": [
        "#####Setting all three data sets to datetime for manipulating the date for analysis.\n"
      ],
      "metadata": {
        "id": "kqTs-gOSNVNn"
      }
    },
    {
      "cell_type": "code",
      "source": [
        "df_features = pd.read_csv('/content/drive/Shareddrives/Project_1/Data/store_features.csv')\n",
        "\n",
        "#Converting date to datetime\n",
        "df_features['Date'] = pd.to_datetime(df_features['Date'])\n",
        "df_features.head(2)"
      ],
      "metadata": {
        "id": "kL2W5oNRX2MD",
        "colab": {
          "base_uri": "https://localhost:8080/",
          "height": 112
        },
        "outputId": "c3b04e77-a670-4abb-f469-cd845ab3f80c"
      },
      "execution_count": null,
      "outputs": [
        {
          "output_type": "execute_result",
          "data": {
            "text/html": [
              "\n",
              "  <div id=\"df-d29e4c60-ae83-43fe-b24e-3da0226602d9\">\n",
              "    <div class=\"colab-df-container\">\n",
              "      <div>\n",
              "<style scoped>\n",
              "    .dataframe tbody tr th:only-of-type {\n",
              "        vertical-align: middle;\n",
              "    }\n",
              "\n",
              "    .dataframe tbody tr th {\n",
              "        vertical-align: top;\n",
              "    }\n",
              "\n",
              "    .dataframe thead th {\n",
              "        text-align: right;\n",
              "    }\n",
              "</style>\n",
              "<table border=\"1\" class=\"dataframe\">\n",
              "  <thead>\n",
              "    <tr style=\"text-align: right;\">\n",
              "      <th></th>\n",
              "      <th>Store</th>\n",
              "      <th>Date</th>\n",
              "      <th>Temperature</th>\n",
              "      <th>Fuel_Price</th>\n",
              "      <th>MarkDown1</th>\n",
              "      <th>MarkDown2</th>\n",
              "      <th>MarkDown3</th>\n",
              "      <th>MarkDown4</th>\n",
              "      <th>MarkDown5</th>\n",
              "      <th>CPI</th>\n",
              "      <th>Unemployment</th>\n",
              "      <th>IsHoliday</th>\n",
              "    </tr>\n",
              "  </thead>\n",
              "  <tbody>\n",
              "    <tr>\n",
              "      <th>0</th>\n",
              "      <td>1</td>\n",
              "      <td>2010-05-02</td>\n",
              "      <td>42.31</td>\n",
              "      <td>2.572</td>\n",
              "      <td>NaN</td>\n",
              "      <td>NaN</td>\n",
              "      <td>NaN</td>\n",
              "      <td>NaN</td>\n",
              "      <td>NaN</td>\n",
              "      <td>211.096358</td>\n",
              "      <td>8.106</td>\n",
              "      <td>False</td>\n",
              "    </tr>\n",
              "    <tr>\n",
              "      <th>1</th>\n",
              "      <td>1</td>\n",
              "      <td>2010-12-02</td>\n",
              "      <td>38.51</td>\n",
              "      <td>2.548</td>\n",
              "      <td>NaN</td>\n",
              "      <td>NaN</td>\n",
              "      <td>NaN</td>\n",
              "      <td>NaN</td>\n",
              "      <td>NaN</td>\n",
              "      <td>211.242170</td>\n",
              "      <td>8.106</td>\n",
              "      <td>True</td>\n",
              "    </tr>\n",
              "  </tbody>\n",
              "</table>\n",
              "</div>\n",
              "      <button class=\"colab-df-convert\" onclick=\"convertToInteractive('df-d29e4c60-ae83-43fe-b24e-3da0226602d9')\"\n",
              "              title=\"Convert this dataframe to an interactive table.\"\n",
              "              style=\"display:none;\">\n",
              "        \n",
              "  <svg xmlns=\"http://www.w3.org/2000/svg\" height=\"24px\"viewBox=\"0 0 24 24\"\n",
              "       width=\"24px\">\n",
              "    <path d=\"M0 0h24v24H0V0z\" fill=\"none\"/>\n",
              "    <path d=\"M18.56 5.44l.94 2.06.94-2.06 2.06-.94-2.06-.94-.94-2.06-.94 2.06-2.06.94zm-11 1L8.5 8.5l.94-2.06 2.06-.94-2.06-.94L8.5 2.5l-.94 2.06-2.06.94zm10 10l.94 2.06.94-2.06 2.06-.94-2.06-.94-.94-2.06-.94 2.06-2.06.94z\"/><path d=\"M17.41 7.96l-1.37-1.37c-.4-.4-.92-.59-1.43-.59-.52 0-1.04.2-1.43.59L10.3 9.45l-7.72 7.72c-.78.78-.78 2.05 0 2.83L4 21.41c.39.39.9.59 1.41.59.51 0 1.02-.2 1.41-.59l7.78-7.78 2.81-2.81c.8-.78.8-2.07 0-2.86zM5.41 20L4 18.59l7.72-7.72 1.47 1.35L5.41 20z\"/>\n",
              "  </svg>\n",
              "      </button>\n",
              "      \n",
              "  <style>\n",
              "    .colab-df-container {\n",
              "      display:flex;\n",
              "      flex-wrap:wrap;\n",
              "      gap: 12px;\n",
              "    }\n",
              "\n",
              "    .colab-df-convert {\n",
              "      background-color: #E8F0FE;\n",
              "      border: none;\n",
              "      border-radius: 50%;\n",
              "      cursor: pointer;\n",
              "      display: none;\n",
              "      fill: #1967D2;\n",
              "      height: 32px;\n",
              "      padding: 0 0 0 0;\n",
              "      width: 32px;\n",
              "    }\n",
              "\n",
              "    .colab-df-convert:hover {\n",
              "      background-color: #E2EBFA;\n",
              "      box-shadow: 0px 1px 2px rgba(60, 64, 67, 0.3), 0px 1px 3px 1px rgba(60, 64, 67, 0.15);\n",
              "      fill: #174EA6;\n",
              "    }\n",
              "\n",
              "    [theme=dark] .colab-df-convert {\n",
              "      background-color: #3B4455;\n",
              "      fill: #D2E3FC;\n",
              "    }\n",
              "\n",
              "    [theme=dark] .colab-df-convert:hover {\n",
              "      background-color: #434B5C;\n",
              "      box-shadow: 0px 1px 3px 1px rgba(0, 0, 0, 0.15);\n",
              "      filter: drop-shadow(0px 1px 2px rgba(0, 0, 0, 0.3));\n",
              "      fill: #FFFFFF;\n",
              "    }\n",
              "  </style>\n",
              "\n",
              "      <script>\n",
              "        const buttonEl =\n",
              "          document.querySelector('#df-d29e4c60-ae83-43fe-b24e-3da0226602d9 button.colab-df-convert');\n",
              "        buttonEl.style.display =\n",
              "          google.colab.kernel.accessAllowed ? 'block' : 'none';\n",
              "\n",
              "        async function convertToInteractive(key) {\n",
              "          const element = document.querySelector('#df-d29e4c60-ae83-43fe-b24e-3da0226602d9');\n",
              "          const dataTable =\n",
              "            await google.colab.kernel.invokeFunction('convertToInteractive',\n",
              "                                                     [key], {});\n",
              "          if (!dataTable) return;\n",
              "\n",
              "          const docLinkHtml = 'Like what you see? Visit the ' +\n",
              "            '<a target=\"_blank\" href=https://colab.research.google.com/notebooks/data_table.ipynb>data table notebook</a>'\n",
              "            + ' to learn more about interactive tables.';\n",
              "          element.innerHTML = '';\n",
              "          dataTable['output_type'] = 'display_data';\n",
              "          await google.colab.output.renderOutput(dataTable, element);\n",
              "          const docLink = document.createElement('div');\n",
              "          docLink.innerHTML = docLinkHtml;\n",
              "          element.appendChild(docLink);\n",
              "        }\n",
              "      </script>\n",
              "    </div>\n",
              "  </div>\n",
              "  "
            ],
            "text/plain": [
              "   Store       Date  Temperature  ...         CPI  Unemployment  IsHoliday\n",
              "0      1 2010-05-02        42.31  ...  211.096358         8.106      False\n",
              "1      1 2010-12-02        38.51  ...  211.242170         8.106       True\n",
              "\n",
              "[2 rows x 12 columns]"
            ]
          },
          "metadata": {},
          "execution_count": 3
        }
      ]
    },
    {
      "cell_type": "code",
      "source": [
        "df_sales = pd.read_csv('/content/drive/Shareddrives/Project_1/Data/sales.csv')\n",
        "\n",
        "#Converting date to datetime\n",
        "df_sales['Date'] = pd.to_datetime(df_sales['Date'])\n",
        "df_sales.head(2)"
      ],
      "metadata": {
        "id": "dRiFhftOX_Cn",
        "colab": {
          "base_uri": "https://localhost:8080/",
          "height": 112
        },
        "outputId": "7bfce316-dbce-42c0-c834-2ea3ab4e4d78"
      },
      "execution_count": null,
      "outputs": [
        {
          "output_type": "execute_result",
          "data": {
            "text/html": [
              "\n",
              "  <div id=\"df-a117e95a-3dbc-4199-a2d9-ce0dc7c6b2f7\">\n",
              "    <div class=\"colab-df-container\">\n",
              "      <div>\n",
              "<style scoped>\n",
              "    .dataframe tbody tr th:only-of-type {\n",
              "        vertical-align: middle;\n",
              "    }\n",
              "\n",
              "    .dataframe tbody tr th {\n",
              "        vertical-align: top;\n",
              "    }\n",
              "\n",
              "    .dataframe thead th {\n",
              "        text-align: right;\n",
              "    }\n",
              "</style>\n",
              "<table border=\"1\" class=\"dataframe\">\n",
              "  <thead>\n",
              "    <tr style=\"text-align: right;\">\n",
              "      <th></th>\n",
              "      <th>Store</th>\n",
              "      <th>Dept</th>\n",
              "      <th>Date</th>\n",
              "      <th>Weekly_Sales</th>\n",
              "      <th>IsHoliday</th>\n",
              "    </tr>\n",
              "  </thead>\n",
              "  <tbody>\n",
              "    <tr>\n",
              "      <th>0</th>\n",
              "      <td>1</td>\n",
              "      <td>1</td>\n",
              "      <td>2010-05-02</td>\n",
              "      <td>24924.50</td>\n",
              "      <td>False</td>\n",
              "    </tr>\n",
              "    <tr>\n",
              "      <th>1</th>\n",
              "      <td>1</td>\n",
              "      <td>1</td>\n",
              "      <td>2010-12-02</td>\n",
              "      <td>46039.49</td>\n",
              "      <td>True</td>\n",
              "    </tr>\n",
              "  </tbody>\n",
              "</table>\n",
              "</div>\n",
              "      <button class=\"colab-df-convert\" onclick=\"convertToInteractive('df-a117e95a-3dbc-4199-a2d9-ce0dc7c6b2f7')\"\n",
              "              title=\"Convert this dataframe to an interactive table.\"\n",
              "              style=\"display:none;\">\n",
              "        \n",
              "  <svg xmlns=\"http://www.w3.org/2000/svg\" height=\"24px\"viewBox=\"0 0 24 24\"\n",
              "       width=\"24px\">\n",
              "    <path d=\"M0 0h24v24H0V0z\" fill=\"none\"/>\n",
              "    <path d=\"M18.56 5.44l.94 2.06.94-2.06 2.06-.94-2.06-.94-.94-2.06-.94 2.06-2.06.94zm-11 1L8.5 8.5l.94-2.06 2.06-.94-2.06-.94L8.5 2.5l-.94 2.06-2.06.94zm10 10l.94 2.06.94-2.06 2.06-.94-2.06-.94-.94-2.06-.94 2.06-2.06.94z\"/><path d=\"M17.41 7.96l-1.37-1.37c-.4-.4-.92-.59-1.43-.59-.52 0-1.04.2-1.43.59L10.3 9.45l-7.72 7.72c-.78.78-.78 2.05 0 2.83L4 21.41c.39.39.9.59 1.41.59.51 0 1.02-.2 1.41-.59l7.78-7.78 2.81-2.81c.8-.78.8-2.07 0-2.86zM5.41 20L4 18.59l7.72-7.72 1.47 1.35L5.41 20z\"/>\n",
              "  </svg>\n",
              "      </button>\n",
              "      \n",
              "  <style>\n",
              "    .colab-df-container {\n",
              "      display:flex;\n",
              "      flex-wrap:wrap;\n",
              "      gap: 12px;\n",
              "    }\n",
              "\n",
              "    .colab-df-convert {\n",
              "      background-color: #E8F0FE;\n",
              "      border: none;\n",
              "      border-radius: 50%;\n",
              "      cursor: pointer;\n",
              "      display: none;\n",
              "      fill: #1967D2;\n",
              "      height: 32px;\n",
              "      padding: 0 0 0 0;\n",
              "      width: 32px;\n",
              "    }\n",
              "\n",
              "    .colab-df-convert:hover {\n",
              "      background-color: #E2EBFA;\n",
              "      box-shadow: 0px 1px 2px rgba(60, 64, 67, 0.3), 0px 1px 3px 1px rgba(60, 64, 67, 0.15);\n",
              "      fill: #174EA6;\n",
              "    }\n",
              "\n",
              "    [theme=dark] .colab-df-convert {\n",
              "      background-color: #3B4455;\n",
              "      fill: #D2E3FC;\n",
              "    }\n",
              "\n",
              "    [theme=dark] .colab-df-convert:hover {\n",
              "      background-color: #434B5C;\n",
              "      box-shadow: 0px 1px 3px 1px rgba(0, 0, 0, 0.15);\n",
              "      filter: drop-shadow(0px 1px 2px rgba(0, 0, 0, 0.3));\n",
              "      fill: #FFFFFF;\n",
              "    }\n",
              "  </style>\n",
              "\n",
              "      <script>\n",
              "        const buttonEl =\n",
              "          document.querySelector('#df-a117e95a-3dbc-4199-a2d9-ce0dc7c6b2f7 button.colab-df-convert');\n",
              "        buttonEl.style.display =\n",
              "          google.colab.kernel.accessAllowed ? 'block' : 'none';\n",
              "\n",
              "        async function convertToInteractive(key) {\n",
              "          const element = document.querySelector('#df-a117e95a-3dbc-4199-a2d9-ce0dc7c6b2f7');\n",
              "          const dataTable =\n",
              "            await google.colab.kernel.invokeFunction('convertToInteractive',\n",
              "                                                     [key], {});\n",
              "          if (!dataTable) return;\n",
              "\n",
              "          const docLinkHtml = 'Like what you see? Visit the ' +\n",
              "            '<a target=\"_blank\" href=https://colab.research.google.com/notebooks/data_table.ipynb>data table notebook</a>'\n",
              "            + ' to learn more about interactive tables.';\n",
              "          element.innerHTML = '';\n",
              "          dataTable['output_type'] = 'display_data';\n",
              "          await google.colab.output.renderOutput(dataTable, element);\n",
              "          const docLink = document.createElement('div');\n",
              "          docLink.innerHTML = docLinkHtml;\n",
              "          element.appendChild(docLink);\n",
              "        }\n",
              "      </script>\n",
              "    </div>\n",
              "  </div>\n",
              "  "
            ],
            "text/plain": [
              "   Store  Dept       Date  Weekly_Sales  IsHoliday\n",
              "0      1     1 2010-05-02      24924.50      False\n",
              "1      1     1 2010-12-02      46039.49       True"
            ]
          },
          "metadata": {},
          "execution_count": 4
        }
      ]
    },
    {
      "cell_type": "code",
      "source": [
        "df_stores = pd.read_csv('/content/drive/Shareddrives/Project_1/Data/stores.csv')\n",
        "df_stores.head(2)"
      ],
      "metadata": {
        "colab": {
          "base_uri": "https://localhost:8080/",
          "height": 112
        },
        "id": "Uqrz7oaMNRex",
        "outputId": "b2698802-0f0a-40f5-e199-94603d04e3e0"
      },
      "execution_count": null,
      "outputs": [
        {
          "output_type": "execute_result",
          "data": {
            "text/html": [
              "\n",
              "  <div id=\"df-6f959817-16f3-4ebc-9100-af007808fdb7\">\n",
              "    <div class=\"colab-df-container\">\n",
              "      <div>\n",
              "<style scoped>\n",
              "    .dataframe tbody tr th:only-of-type {\n",
              "        vertical-align: middle;\n",
              "    }\n",
              "\n",
              "    .dataframe tbody tr th {\n",
              "        vertical-align: top;\n",
              "    }\n",
              "\n",
              "    .dataframe thead th {\n",
              "        text-align: right;\n",
              "    }\n",
              "</style>\n",
              "<table border=\"1\" class=\"dataframe\">\n",
              "  <thead>\n",
              "    <tr style=\"text-align: right;\">\n",
              "      <th></th>\n",
              "      <th>Store</th>\n",
              "      <th>Type</th>\n",
              "      <th>Size</th>\n",
              "    </tr>\n",
              "  </thead>\n",
              "  <tbody>\n",
              "    <tr>\n",
              "      <th>0</th>\n",
              "      <td>1</td>\n",
              "      <td>A</td>\n",
              "      <td>151315</td>\n",
              "    </tr>\n",
              "    <tr>\n",
              "      <th>1</th>\n",
              "      <td>2</td>\n",
              "      <td>A</td>\n",
              "      <td>202307</td>\n",
              "    </tr>\n",
              "  </tbody>\n",
              "</table>\n",
              "</div>\n",
              "      <button class=\"colab-df-convert\" onclick=\"convertToInteractive('df-6f959817-16f3-4ebc-9100-af007808fdb7')\"\n",
              "              title=\"Convert this dataframe to an interactive table.\"\n",
              "              style=\"display:none;\">\n",
              "        \n",
              "  <svg xmlns=\"http://www.w3.org/2000/svg\" height=\"24px\"viewBox=\"0 0 24 24\"\n",
              "       width=\"24px\">\n",
              "    <path d=\"M0 0h24v24H0V0z\" fill=\"none\"/>\n",
              "    <path d=\"M18.56 5.44l.94 2.06.94-2.06 2.06-.94-2.06-.94-.94-2.06-.94 2.06-2.06.94zm-11 1L8.5 8.5l.94-2.06 2.06-.94-2.06-.94L8.5 2.5l-.94 2.06-2.06.94zm10 10l.94 2.06.94-2.06 2.06-.94-2.06-.94-.94-2.06-.94 2.06-2.06.94z\"/><path d=\"M17.41 7.96l-1.37-1.37c-.4-.4-.92-.59-1.43-.59-.52 0-1.04.2-1.43.59L10.3 9.45l-7.72 7.72c-.78.78-.78 2.05 0 2.83L4 21.41c.39.39.9.59 1.41.59.51 0 1.02-.2 1.41-.59l7.78-7.78 2.81-2.81c.8-.78.8-2.07 0-2.86zM5.41 20L4 18.59l7.72-7.72 1.47 1.35L5.41 20z\"/>\n",
              "  </svg>\n",
              "      </button>\n",
              "      \n",
              "  <style>\n",
              "    .colab-df-container {\n",
              "      display:flex;\n",
              "      flex-wrap:wrap;\n",
              "      gap: 12px;\n",
              "    }\n",
              "\n",
              "    .colab-df-convert {\n",
              "      background-color: #E8F0FE;\n",
              "      border: none;\n",
              "      border-radius: 50%;\n",
              "      cursor: pointer;\n",
              "      display: none;\n",
              "      fill: #1967D2;\n",
              "      height: 32px;\n",
              "      padding: 0 0 0 0;\n",
              "      width: 32px;\n",
              "    }\n",
              "\n",
              "    .colab-df-convert:hover {\n",
              "      background-color: #E2EBFA;\n",
              "      box-shadow: 0px 1px 2px rgba(60, 64, 67, 0.3), 0px 1px 3px 1px rgba(60, 64, 67, 0.15);\n",
              "      fill: #174EA6;\n",
              "    }\n",
              "\n",
              "    [theme=dark] .colab-df-convert {\n",
              "      background-color: #3B4455;\n",
              "      fill: #D2E3FC;\n",
              "    }\n",
              "\n",
              "    [theme=dark] .colab-df-convert:hover {\n",
              "      background-color: #434B5C;\n",
              "      box-shadow: 0px 1px 3px 1px rgba(0, 0, 0, 0.15);\n",
              "      filter: drop-shadow(0px 1px 2px rgba(0, 0, 0, 0.3));\n",
              "      fill: #FFFFFF;\n",
              "    }\n",
              "  </style>\n",
              "\n",
              "      <script>\n",
              "        const buttonEl =\n",
              "          document.querySelector('#df-6f959817-16f3-4ebc-9100-af007808fdb7 button.colab-df-convert');\n",
              "        buttonEl.style.display =\n",
              "          google.colab.kernel.accessAllowed ? 'block' : 'none';\n",
              "\n",
              "        async function convertToInteractive(key) {\n",
              "          const element = document.querySelector('#df-6f959817-16f3-4ebc-9100-af007808fdb7');\n",
              "          const dataTable =\n",
              "            await google.colab.kernel.invokeFunction('convertToInteractive',\n",
              "                                                     [key], {});\n",
              "          if (!dataTable) return;\n",
              "\n",
              "          const docLinkHtml = 'Like what you see? Visit the ' +\n",
              "            '<a target=\"_blank\" href=https://colab.research.google.com/notebooks/data_table.ipynb>data table notebook</a>'\n",
              "            + ' to learn more about interactive tables.';\n",
              "          element.innerHTML = '';\n",
              "          dataTable['output_type'] = 'display_data';\n",
              "          await google.colab.output.renderOutput(dataTable, element);\n",
              "          const docLink = document.createElement('div');\n",
              "          docLink.innerHTML = docLinkHtml;\n",
              "          element.appendChild(docLink);\n",
              "        }\n",
              "      </script>\n",
              "    </div>\n",
              "  </div>\n",
              "  "
            ],
            "text/plain": [
              "   Store Type    Size\n",
              "0      1    A  151315\n",
              "1      2    A  202307"
            ]
          },
          "metadata": {},
          "execution_count": 5
        }
      ]
    },
    {
      "cell_type": "markdown",
      "source": [
        "# Cleaning Data"
      ],
      "metadata": {
        "id": "7Zq_G1dhSacX"
      }
    },
    {
      "cell_type": "markdown",
      "source": [
        "#####Dropping Columns that are were unneeded in our analysis. Column 'IsHoliday' only provided true false values. 'Markdown' columns provided a great number of missing value in the data. "
      ],
      "metadata": {
        "id": "lbdSuU6gSiDE"
      }
    },
    {
      "cell_type": "code",
      "source": [
        "#Dropping columns.\n",
        "df_features = df_features.drop(['IsHoliday','MarkDown1','MarkDown2','MarkDown3','MarkDown4','MarkDown5'], axis = 1)\n",
        "df_sales = df_sales.drop(['IsHoliday'], axis = 1)\n",
        "\n",
        "#Creating new data set.\n",
        "df_feat = df_features.dropna()"
      ],
      "metadata": {
        "id": "qFN-6maJdELz"
      },
      "execution_count": null,
      "outputs": []
    },
    {
      "cell_type": "markdown",
      "source": [
        "## Checking `dtypes` for both Files"
      ],
      "metadata": {
        "id": "OEsSoCsLSovE"
      }
    },
    {
      "cell_type": "code",
      "source": [
        "#Checking data types \n",
        "df_feat.dtypes"
      ],
      "metadata": {
        "id": "KQeuYwIayWA7",
        "colab": {
          "base_uri": "https://localhost:8080/"
        },
        "outputId": "25ead06e-7c62-4fc4-bd87-f5fa4e3ac992"
      },
      "execution_count": null,
      "outputs": [
        {
          "output_type": "execute_result",
          "data": {
            "text/plain": [
              "Store                    int64\n",
              "Date            datetime64[ns]\n",
              "Temperature            float64\n",
              "Fuel_Price             float64\n",
              "CPI                    float64\n",
              "Unemployment           float64\n",
              "dtype: object"
            ]
          },
          "metadata": {},
          "execution_count": 7
        }
      ]
    },
    {
      "cell_type": "code",
      "source": [
        "#Checking data types \n",
        "df_sales.dtypes"
      ],
      "metadata": {
        "id": "ZHVBDI4Fye1v",
        "colab": {
          "base_uri": "https://localhost:8080/"
        },
        "outputId": "fb5b2500-b5d2-4a87-e833-2f42f28fefde"
      },
      "execution_count": null,
      "outputs": [
        {
          "output_type": "execute_result",
          "data": {
            "text/plain": [
              "Store                    int64\n",
              "Dept                     int64\n",
              "Date            datetime64[ns]\n",
              "Weekly_Sales           float64\n",
              "dtype: object"
            ]
          },
          "metadata": {},
          "execution_count": 8
        }
      ]
    },
    {
      "cell_type": "markdown",
      "source": [
        "## `Merging` All Files to Make one File to Analyze"
      ],
      "metadata": {
        "id": "ivFMTwzjS2jy"
      }
    },
    {
      "cell_type": "markdown",
      "source": [
        "#####To be able to analyse the store weekly sales we combined both data set 'df_sales' and 'df_feat' by columns 'Store' and 'Date'."
      ],
      "metadata": {
        "id": "zs-icfdkOnTN"
      }
    },
    {
      "cell_type": "code",
      "source": [
        "#Creating new data set by merging two\n",
        "df = pd.merge(df_feat,df_sales, on=['Store','Date'])\n",
        "\n",
        "df.head(2)"
      ],
      "metadata": {
        "id": "6nX9zbQ-xC-I",
        "colab": {
          "base_uri": "https://localhost:8080/",
          "height": 112
        },
        "outputId": "40706e69-8acf-4b6d-b7ab-4692285d4379"
      },
      "execution_count": null,
      "outputs": [
        {
          "output_type": "execute_result",
          "data": {
            "text/html": [
              "\n",
              "  <div id=\"df-d0632403-6f52-4323-aaa6-edcc73a79265\">\n",
              "    <div class=\"colab-df-container\">\n",
              "      <div>\n",
              "<style scoped>\n",
              "    .dataframe tbody tr th:only-of-type {\n",
              "        vertical-align: middle;\n",
              "    }\n",
              "\n",
              "    .dataframe tbody tr th {\n",
              "        vertical-align: top;\n",
              "    }\n",
              "\n",
              "    .dataframe thead th {\n",
              "        text-align: right;\n",
              "    }\n",
              "</style>\n",
              "<table border=\"1\" class=\"dataframe\">\n",
              "  <thead>\n",
              "    <tr style=\"text-align: right;\">\n",
              "      <th></th>\n",
              "      <th>Store</th>\n",
              "      <th>Date</th>\n",
              "      <th>Temperature</th>\n",
              "      <th>Fuel_Price</th>\n",
              "      <th>CPI</th>\n",
              "      <th>Unemployment</th>\n",
              "      <th>Dept</th>\n",
              "      <th>Weekly_Sales</th>\n",
              "    </tr>\n",
              "  </thead>\n",
              "  <tbody>\n",
              "    <tr>\n",
              "      <th>0</th>\n",
              "      <td>1</td>\n",
              "      <td>2010-05-02</td>\n",
              "      <td>42.31</td>\n",
              "      <td>2.572</td>\n",
              "      <td>211.096358</td>\n",
              "      <td>8.106</td>\n",
              "      <td>1</td>\n",
              "      <td>24924.50</td>\n",
              "    </tr>\n",
              "    <tr>\n",
              "      <th>1</th>\n",
              "      <td>1</td>\n",
              "      <td>2010-05-02</td>\n",
              "      <td>42.31</td>\n",
              "      <td>2.572</td>\n",
              "      <td>211.096358</td>\n",
              "      <td>8.106</td>\n",
              "      <td>2</td>\n",
              "      <td>50605.27</td>\n",
              "    </tr>\n",
              "  </tbody>\n",
              "</table>\n",
              "</div>\n",
              "      <button class=\"colab-df-convert\" onclick=\"convertToInteractive('df-d0632403-6f52-4323-aaa6-edcc73a79265')\"\n",
              "              title=\"Convert this dataframe to an interactive table.\"\n",
              "              style=\"display:none;\">\n",
              "        \n",
              "  <svg xmlns=\"http://www.w3.org/2000/svg\" height=\"24px\"viewBox=\"0 0 24 24\"\n",
              "       width=\"24px\">\n",
              "    <path d=\"M0 0h24v24H0V0z\" fill=\"none\"/>\n",
              "    <path d=\"M18.56 5.44l.94 2.06.94-2.06 2.06-.94-2.06-.94-.94-2.06-.94 2.06-2.06.94zm-11 1L8.5 8.5l.94-2.06 2.06-.94-2.06-.94L8.5 2.5l-.94 2.06-2.06.94zm10 10l.94 2.06.94-2.06 2.06-.94-2.06-.94-.94-2.06-.94 2.06-2.06.94z\"/><path d=\"M17.41 7.96l-1.37-1.37c-.4-.4-.92-.59-1.43-.59-.52 0-1.04.2-1.43.59L10.3 9.45l-7.72 7.72c-.78.78-.78 2.05 0 2.83L4 21.41c.39.39.9.59 1.41.59.51 0 1.02-.2 1.41-.59l7.78-7.78 2.81-2.81c.8-.78.8-2.07 0-2.86zM5.41 20L4 18.59l7.72-7.72 1.47 1.35L5.41 20z\"/>\n",
              "  </svg>\n",
              "      </button>\n",
              "      \n",
              "  <style>\n",
              "    .colab-df-container {\n",
              "      display:flex;\n",
              "      flex-wrap:wrap;\n",
              "      gap: 12px;\n",
              "    }\n",
              "\n",
              "    .colab-df-convert {\n",
              "      background-color: #E8F0FE;\n",
              "      border: none;\n",
              "      border-radius: 50%;\n",
              "      cursor: pointer;\n",
              "      display: none;\n",
              "      fill: #1967D2;\n",
              "      height: 32px;\n",
              "      padding: 0 0 0 0;\n",
              "      width: 32px;\n",
              "    }\n",
              "\n",
              "    .colab-df-convert:hover {\n",
              "      background-color: #E2EBFA;\n",
              "      box-shadow: 0px 1px 2px rgba(60, 64, 67, 0.3), 0px 1px 3px 1px rgba(60, 64, 67, 0.15);\n",
              "      fill: #174EA6;\n",
              "    }\n",
              "\n",
              "    [theme=dark] .colab-df-convert {\n",
              "      background-color: #3B4455;\n",
              "      fill: #D2E3FC;\n",
              "    }\n",
              "\n",
              "    [theme=dark] .colab-df-convert:hover {\n",
              "      background-color: #434B5C;\n",
              "      box-shadow: 0px 1px 3px 1px rgba(0, 0, 0, 0.15);\n",
              "      filter: drop-shadow(0px 1px 2px rgba(0, 0, 0, 0.3));\n",
              "      fill: #FFFFFF;\n",
              "    }\n",
              "  </style>\n",
              "\n",
              "      <script>\n",
              "        const buttonEl =\n",
              "          document.querySelector('#df-d0632403-6f52-4323-aaa6-edcc73a79265 button.colab-df-convert');\n",
              "        buttonEl.style.display =\n",
              "          google.colab.kernel.accessAllowed ? 'block' : 'none';\n",
              "\n",
              "        async function convertToInteractive(key) {\n",
              "          const element = document.querySelector('#df-d0632403-6f52-4323-aaa6-edcc73a79265');\n",
              "          const dataTable =\n",
              "            await google.colab.kernel.invokeFunction('convertToInteractive',\n",
              "                                                     [key], {});\n",
              "          if (!dataTable) return;\n",
              "\n",
              "          const docLinkHtml = 'Like what you see? Visit the ' +\n",
              "            '<a target=\"_blank\" href=https://colab.research.google.com/notebooks/data_table.ipynb>data table notebook</a>'\n",
              "            + ' to learn more about interactive tables.';\n",
              "          element.innerHTML = '';\n",
              "          dataTable['output_type'] = 'display_data';\n",
              "          await google.colab.output.renderOutput(dataTable, element);\n",
              "          const docLink = document.createElement('div');\n",
              "          docLink.innerHTML = docLinkHtml;\n",
              "          element.appendChild(docLink);\n",
              "        }\n",
              "      </script>\n",
              "    </div>\n",
              "  </div>\n",
              "  "
            ],
            "text/plain": [
              "   Store       Date  Temperature  ...  Unemployment  Dept  Weekly_Sales\n",
              "0      1 2010-05-02        42.31  ...         8.106     1      24924.50\n",
              "1      1 2010-05-02        42.31  ...         8.106     2      50605.27\n",
              "\n",
              "[2 rows x 8 columns]"
            ]
          },
          "metadata": {},
          "execution_count": 9
        }
      ]
    },
    {
      "cell_type": "code",
      "source": [
        "df = pd.merge(df, df_stores, on= ['Store'])\n",
        "df"
      ],
      "metadata": {
        "colab": {
          "base_uri": "https://localhost:8080/",
          "height": 424
        },
        "id": "xrEPIglsqrWl",
        "outputId": "21ba58ef-8265-4065-d28f-516eb866cef6"
      },
      "execution_count": null,
      "outputs": [
        {
          "output_type": "execute_result",
          "data": {
            "text/html": [
              "\n",
              "  <div id=\"df-26cd05e2-f35e-40bf-a7e1-adf3d1c0bdd3\">\n",
              "    <div class=\"colab-df-container\">\n",
              "      <div>\n",
              "<style scoped>\n",
              "    .dataframe tbody tr th:only-of-type {\n",
              "        vertical-align: middle;\n",
              "    }\n",
              "\n",
              "    .dataframe tbody tr th {\n",
              "        vertical-align: top;\n",
              "    }\n",
              "\n",
              "    .dataframe thead th {\n",
              "        text-align: right;\n",
              "    }\n",
              "</style>\n",
              "<table border=\"1\" class=\"dataframe\">\n",
              "  <thead>\n",
              "    <tr style=\"text-align: right;\">\n",
              "      <th></th>\n",
              "      <th>Store</th>\n",
              "      <th>Date</th>\n",
              "      <th>Temperature</th>\n",
              "      <th>Fuel_Price</th>\n",
              "      <th>CPI</th>\n",
              "      <th>Unemployment</th>\n",
              "      <th>Dept</th>\n",
              "      <th>Weekly_Sales</th>\n",
              "      <th>Type</th>\n",
              "      <th>Size</th>\n",
              "    </tr>\n",
              "  </thead>\n",
              "  <tbody>\n",
              "    <tr>\n",
              "      <th>0</th>\n",
              "      <td>1</td>\n",
              "      <td>2010-05-02</td>\n",
              "      <td>42.31</td>\n",
              "      <td>2.572</td>\n",
              "      <td>211.096358</td>\n",
              "      <td>8.106</td>\n",
              "      <td>1</td>\n",
              "      <td>24924.50</td>\n",
              "      <td>A</td>\n",
              "      <td>151315</td>\n",
              "    </tr>\n",
              "    <tr>\n",
              "      <th>1</th>\n",
              "      <td>1</td>\n",
              "      <td>2010-05-02</td>\n",
              "      <td>42.31</td>\n",
              "      <td>2.572</td>\n",
              "      <td>211.096358</td>\n",
              "      <td>8.106</td>\n",
              "      <td>2</td>\n",
              "      <td>50605.27</td>\n",
              "      <td>A</td>\n",
              "      <td>151315</td>\n",
              "    </tr>\n",
              "    <tr>\n",
              "      <th>2</th>\n",
              "      <td>1</td>\n",
              "      <td>2010-05-02</td>\n",
              "      <td>42.31</td>\n",
              "      <td>2.572</td>\n",
              "      <td>211.096358</td>\n",
              "      <td>8.106</td>\n",
              "      <td>3</td>\n",
              "      <td>13740.12</td>\n",
              "      <td>A</td>\n",
              "      <td>151315</td>\n",
              "    </tr>\n",
              "    <tr>\n",
              "      <th>3</th>\n",
              "      <td>1</td>\n",
              "      <td>2010-05-02</td>\n",
              "      <td>42.31</td>\n",
              "      <td>2.572</td>\n",
              "      <td>211.096358</td>\n",
              "      <td>8.106</td>\n",
              "      <td>4</td>\n",
              "      <td>39954.04</td>\n",
              "      <td>A</td>\n",
              "      <td>151315</td>\n",
              "    </tr>\n",
              "    <tr>\n",
              "      <th>4</th>\n",
              "      <td>1</td>\n",
              "      <td>2010-05-02</td>\n",
              "      <td>42.31</td>\n",
              "      <td>2.572</td>\n",
              "      <td>211.096358</td>\n",
              "      <td>8.106</td>\n",
              "      <td>5</td>\n",
              "      <td>32229.38</td>\n",
              "      <td>A</td>\n",
              "      <td>151315</td>\n",
              "    </tr>\n",
              "    <tr>\n",
              "      <th>...</th>\n",
              "      <td>...</td>\n",
              "      <td>...</td>\n",
              "      <td>...</td>\n",
              "      <td>...</td>\n",
              "      <td>...</td>\n",
              "      <td>...</td>\n",
              "      <td>...</td>\n",
              "      <td>...</td>\n",
              "      <td>...</td>\n",
              "      <td>...</td>\n",
              "    </tr>\n",
              "    <tr>\n",
              "      <th>140674</th>\n",
              "      <td>45</td>\n",
              "      <td>2010-12-31</td>\n",
              "      <td>29.67</td>\n",
              "      <td>3.179</td>\n",
              "      <td>182.571448</td>\n",
              "      <td>8.724</td>\n",
              "      <td>93</td>\n",
              "      <td>2072.46</td>\n",
              "      <td>B</td>\n",
              "      <td>118221</td>\n",
              "    </tr>\n",
              "    <tr>\n",
              "      <th>140675</th>\n",
              "      <td>45</td>\n",
              "      <td>2010-12-31</td>\n",
              "      <td>29.67</td>\n",
              "      <td>3.179</td>\n",
              "      <td>182.571448</td>\n",
              "      <td>8.724</td>\n",
              "      <td>94</td>\n",
              "      <td>3966.80</td>\n",
              "      <td>B</td>\n",
              "      <td>118221</td>\n",
              "    </tr>\n",
              "    <tr>\n",
              "      <th>140676</th>\n",
              "      <td>45</td>\n",
              "      <td>2010-12-31</td>\n",
              "      <td>29.67</td>\n",
              "      <td>3.179</td>\n",
              "      <td>182.571448</td>\n",
              "      <td>8.724</td>\n",
              "      <td>95</td>\n",
              "      <td>43149.88</td>\n",
              "      <td>B</td>\n",
              "      <td>118221</td>\n",
              "    </tr>\n",
              "    <tr>\n",
              "      <th>140677</th>\n",
              "      <td>45</td>\n",
              "      <td>2010-12-31</td>\n",
              "      <td>29.67</td>\n",
              "      <td>3.179</td>\n",
              "      <td>182.571448</td>\n",
              "      <td>8.724</td>\n",
              "      <td>97</td>\n",
              "      <td>5881.22</td>\n",
              "      <td>B</td>\n",
              "      <td>118221</td>\n",
              "    </tr>\n",
              "    <tr>\n",
              "      <th>140678</th>\n",
              "      <td>45</td>\n",
              "      <td>2010-12-31</td>\n",
              "      <td>29.67</td>\n",
              "      <td>3.179</td>\n",
              "      <td>182.571448</td>\n",
              "      <td>8.724</td>\n",
              "      <td>98</td>\n",
              "      <td>74.55</td>\n",
              "      <td>B</td>\n",
              "      <td>118221</td>\n",
              "    </tr>\n",
              "  </tbody>\n",
              "</table>\n",
              "<p>140679 rows × 10 columns</p>\n",
              "</div>\n",
              "      <button class=\"colab-df-convert\" onclick=\"convertToInteractive('df-26cd05e2-f35e-40bf-a7e1-adf3d1c0bdd3')\"\n",
              "              title=\"Convert this dataframe to an interactive table.\"\n",
              "              style=\"display:none;\">\n",
              "        \n",
              "  <svg xmlns=\"http://www.w3.org/2000/svg\" height=\"24px\"viewBox=\"0 0 24 24\"\n",
              "       width=\"24px\">\n",
              "    <path d=\"M0 0h24v24H0V0z\" fill=\"none\"/>\n",
              "    <path d=\"M18.56 5.44l.94 2.06.94-2.06 2.06-.94-2.06-.94-.94-2.06-.94 2.06-2.06.94zm-11 1L8.5 8.5l.94-2.06 2.06-.94-2.06-.94L8.5 2.5l-.94 2.06-2.06.94zm10 10l.94 2.06.94-2.06 2.06-.94-2.06-.94-.94-2.06-.94 2.06-2.06.94z\"/><path d=\"M17.41 7.96l-1.37-1.37c-.4-.4-.92-.59-1.43-.59-.52 0-1.04.2-1.43.59L10.3 9.45l-7.72 7.72c-.78.78-.78 2.05 0 2.83L4 21.41c.39.39.9.59 1.41.59.51 0 1.02-.2 1.41-.59l7.78-7.78 2.81-2.81c.8-.78.8-2.07 0-2.86zM5.41 20L4 18.59l7.72-7.72 1.47 1.35L5.41 20z\"/>\n",
              "  </svg>\n",
              "      </button>\n",
              "      \n",
              "  <style>\n",
              "    .colab-df-container {\n",
              "      display:flex;\n",
              "      flex-wrap:wrap;\n",
              "      gap: 12px;\n",
              "    }\n",
              "\n",
              "    .colab-df-convert {\n",
              "      background-color: #E8F0FE;\n",
              "      border: none;\n",
              "      border-radius: 50%;\n",
              "      cursor: pointer;\n",
              "      display: none;\n",
              "      fill: #1967D2;\n",
              "      height: 32px;\n",
              "      padding: 0 0 0 0;\n",
              "      width: 32px;\n",
              "    }\n",
              "\n",
              "    .colab-df-convert:hover {\n",
              "      background-color: #E2EBFA;\n",
              "      box-shadow: 0px 1px 2px rgba(60, 64, 67, 0.3), 0px 1px 3px 1px rgba(60, 64, 67, 0.15);\n",
              "      fill: #174EA6;\n",
              "    }\n",
              "\n",
              "    [theme=dark] .colab-df-convert {\n",
              "      background-color: #3B4455;\n",
              "      fill: #D2E3FC;\n",
              "    }\n",
              "\n",
              "    [theme=dark] .colab-df-convert:hover {\n",
              "      background-color: #434B5C;\n",
              "      box-shadow: 0px 1px 3px 1px rgba(0, 0, 0, 0.15);\n",
              "      filter: drop-shadow(0px 1px 2px rgba(0, 0, 0, 0.3));\n",
              "      fill: #FFFFFF;\n",
              "    }\n",
              "  </style>\n",
              "\n",
              "      <script>\n",
              "        const buttonEl =\n",
              "          document.querySelector('#df-26cd05e2-f35e-40bf-a7e1-adf3d1c0bdd3 button.colab-df-convert');\n",
              "        buttonEl.style.display =\n",
              "          google.colab.kernel.accessAllowed ? 'block' : 'none';\n",
              "\n",
              "        async function convertToInteractive(key) {\n",
              "          const element = document.querySelector('#df-26cd05e2-f35e-40bf-a7e1-adf3d1c0bdd3');\n",
              "          const dataTable =\n",
              "            await google.colab.kernel.invokeFunction('convertToInteractive',\n",
              "                                                     [key], {});\n",
              "          if (!dataTable) return;\n",
              "\n",
              "          const docLinkHtml = 'Like what you see? Visit the ' +\n",
              "            '<a target=\"_blank\" href=https://colab.research.google.com/notebooks/data_table.ipynb>data table notebook</a>'\n",
              "            + ' to learn more about interactive tables.';\n",
              "          element.innerHTML = '';\n",
              "          dataTable['output_type'] = 'display_data';\n",
              "          await google.colab.output.renderOutput(dataTable, element);\n",
              "          const docLink = document.createElement('div');\n",
              "          docLink.innerHTML = docLinkHtml;\n",
              "          element.appendChild(docLink);\n",
              "        }\n",
              "      </script>\n",
              "    </div>\n",
              "  </div>\n",
              "  "
            ],
            "text/plain": [
              "        Store       Date  Temperature  ...  Weekly_Sales  Type    Size\n",
              "0           1 2010-05-02        42.31  ...      24924.50     A  151315\n",
              "1           1 2010-05-02        42.31  ...      50605.27     A  151315\n",
              "2           1 2010-05-02        42.31  ...      13740.12     A  151315\n",
              "3           1 2010-05-02        42.31  ...      39954.04     A  151315\n",
              "4           1 2010-05-02        42.31  ...      32229.38     A  151315\n",
              "...       ...        ...          ...  ...           ...   ...     ...\n",
              "140674     45 2010-12-31        29.67  ...       2072.46     B  118221\n",
              "140675     45 2010-12-31        29.67  ...       3966.80     B  118221\n",
              "140676     45 2010-12-31        29.67  ...      43149.88     B  118221\n",
              "140677     45 2010-12-31        29.67  ...       5881.22     B  118221\n",
              "140678     45 2010-12-31        29.67  ...         74.55     B  118221\n",
              "\n",
              "[140679 rows x 10 columns]"
            ]
          },
          "metadata": {},
          "execution_count": 10
        }
      ]
    },
    {
      "cell_type": "markdown",
      "source": [
        "######Making sure our new data set included all the columns and the shape."
      ],
      "metadata": {
        "id": "J4NwZmUjPMVx"
      }
    },
    {
      "cell_type": "code",
      "source": [
        "#Checking the shape\n",
        "df.shape"
      ],
      "metadata": {
        "colab": {
          "base_uri": "https://localhost:8080/"
        },
        "id": "RjwylX_S_iCb",
        "outputId": "a163c2a7-3ac9-40c4-cb8f-e4be78a426c3"
      },
      "execution_count": null,
      "outputs": [
        {
          "output_type": "execute_result",
          "data": {
            "text/plain": [
              "(140679, 10)"
            ]
          },
          "metadata": {},
          "execution_count": 11
        }
      ]
    },
    {
      "cell_type": "code",
      "source": [
        "#Checking the columns\n",
        "df.columns"
      ],
      "metadata": {
        "id": "2XzWASys_k6q",
        "colab": {
          "base_uri": "https://localhost:8080/"
        },
        "outputId": "3b89e9f0-2d95-475a-d073-cd2c4fba5bb1"
      },
      "execution_count": null,
      "outputs": [
        {
          "output_type": "execute_result",
          "data": {
            "text/plain": [
              "Index(['Store', 'Date', 'Temperature', 'Fuel_Price', 'CPI', 'Unemployment',\n",
              "       'Dept', 'Weekly_Sales', 'Type', 'Size'],\n",
              "      dtype='object')"
            ]
          },
          "metadata": {},
          "execution_count": 12
        }
      ]
    },
    {
      "cell_type": "markdown",
      "source": [
        "## Seperating Date for In-depth Analysis"
      ],
      "metadata": {
        "id": "Rgc1svorTpvf"
      }
    },
    {
      "cell_type": "markdown",
      "source": [
        "#####To be able to understand weekly sales throughout the year we seperated the dat into three columns, 'Day', 'Month', and 'Year'. We also created a column based on the days of the week."
      ],
      "metadata": {
        "id": "xpDcOL1UPUig"
      }
    },
    {
      "cell_type": "code",
      "source": [
        "#Creating new columns for day, month, year, and week day\n",
        "df['Day'] = df['Date'].dt.day\n",
        "df['Month'] = df['Date'].dt.month\n",
        "df['Year'] = df['Date'].dt.year\n",
        "df['Week_day'] = df['Date'].dt.day_name()"
      ],
      "metadata": {
        "id": "Jy0GbEMdTpJl"
      },
      "execution_count": null,
      "outputs": []
    },
    {
      "cell_type": "markdown",
      "source": [
        "#Holiday Recoding"
      ],
      "metadata": {
        "id": "GCtPdhcayvf7"
      }
    },
    {
      "cell_type": "markdown",
      "source": [
        "## Making `dictionary` for Holidays"
      ],
      "metadata": {
        "id": "wiKub2EZTNNU"
      }
    },
    {
      "cell_type": "markdown",
      "source": [
        "######A dictionary was created based on six of the top holidays throughout the year, Memorial Day, Halloween, Thanksgiving, Black Friday, Christmas, and New Years. This holidays were given the range of two weeks before their day to properly analyse the sales with the exception of Black Friday which only includes that one day."
      ],
      "metadata": {
        "id": "7OyIexeBPxKg"
      }
    },
    {
      "cell_type": "code",
      "source": [
        "# key range for holiday dictionary\n",
        "# 0: Memorial Day, 1: Halloween, 2: Thanksgiving, 3: Black Friday, 4: Christmas, 5: NYE\n",
        "#Monday, May 31\n",
        "\n",
        "holiRange = [{'Holiday':'Memorial Day','Beg. Date':'2010-05-23', 'End Date': '2010-05-31'}\n",
        "             ,{'Holiday':'Halloween','Beg. Date':'2010-10-17', 'End Date': '2010-10-31'}\n",
        "             ,{'Holiday':'Thanksgiving','Beg. Date':'2010-11-11', 'End Date': '2010-11-25'}\n",
        "             ,{'Holiday':'Black Friday','Beg. Date':'2010-11-26', 'End Date': '2010-11-26'}\n",
        "             ,{'Holiday':'Christmas','Beg. Date':'2010-12-11', 'End Date': '2010-12-25'}\n",
        "             ,{'Holiday':'New Years Eve','Beg. Date':'2010-12-17', 'End Date': '2010-12-31'}]\n",
        "\n",
        "\n",
        "df_h = pd.DataFrame.from_records(holiRange)\n",
        "#giving custom unique keys\n",
        "df_h = pd.DataFrame.from_records(holiRange, index=['0', '1', '2','3','4','5'])\n",
        "df_h = pd.DataFrame.from_dict(holiRange, orient='columns')\n",
        "\n",
        "# Convert a list of dictionaries using json_normalize().\n",
        "df_h = pd.json_normalize(holiRange)\n",
        "\n",
        "df_h['Beg. Date'] = pd.to_datetime(df_h['Beg. Date'])\n",
        "df_h['End Date'] = pd.to_datetime(df_h['End Date'])"
      ],
      "metadata": {
        "id": "xtrcxLXtyrYG"
      },
      "execution_count": null,
      "outputs": []
    },
    {
      "cell_type": "markdown",
      "source": [
        "## Code to Recode Holiday & IsHoliday"
      ],
      "metadata": {
        "id": "qwa2IcMXTYa8"
      }
    },
    {
      "cell_type": "markdown",
      "source": [
        "######The holidays from the previous dictionary are then put into a for loop that predicts whether they belong to one of the six holidays or to none based on the date. This then helps create a new 'Holiday' column for further analysis."
      ],
      "metadata": {
        "id": "gi3h_PviQ-UL"
      }
    },
    {
      "cell_type": "code",
      "source": [
        "# IsHoliday = []\n",
        "# Holiday = []\n",
        "# for daye in df[\"Date\"]:\n",
        "#   givDay = daye.day\n",
        "#   givMonth = daye.month\n",
        "\n",
        "#   for i in range(0,6):\n",
        "#     startDate = df_h.iloc[i]['Beg. Date'].day\n",
        "\n",
        "#     startMonth = df_h.iloc[i]['Beg. Date'].month\n",
        "#     diff = givDay - startDate\n",
        "\n",
        "#     if givMonth == startMonth: \n",
        "#       if diff <= 14 and diff >= 0:\n",
        "#         Holiday.append(df_h.iloc[i]['Holiday'])\n",
        "#         IsHoliday.append(True)\n",
        "#         break\n",
        "#       elif i == 5:\n",
        "#         Holiday.append('None')\n",
        "#         IsHoliday.append(False)\n",
        "#         break\n",
        "#     elif i == 5: \n",
        "#       Holiday.append('None')\n",
        "#       IsHoliday.append(False)\n",
        "#       break\n",
        "#     else: \n",
        "#       continue\n",
        "\n",
        "# df['Holiday'] = Holiday\n",
        "# df['IsHoliday'] = IsHoliday\n",
        "\n",
        "\n",
        "# =============== importing the final cleaned data csv to avoid running for loop every time =======================\n",
        "df = pd.read_csv('/content/drive/Shareddrives/Project_1/Data/cleaned_data.csv')"
      ],
      "metadata": {
        "id": "BFcntsT4ysBP"
      },
      "execution_count": null,
      "outputs": []
    },
    {
      "cell_type": "markdown",
      "source": [
        "#Joining re-coded csv with the Store csv\n"
      ],
      "metadata": {
        "id": "XAvRHOEdN9HR"
      }
    },
    {
      "cell_type": "markdown",
      "source": [
        "######Grouping the 'Holiday' column based on its sum and average."
      ],
      "metadata": {
        "id": "Mbb-8ujsSVbE"
      }
    },
    {
      "cell_type": "code",
      "source": [
        "#group by holidays for weekly sum\n",
        "holiSum = df.groupby('Holiday').sum()\n",
        "\n",
        "holiMean = df.groupby('Holiday').mean()"
      ],
      "metadata": {
        "id": "jwRlXGQS_N1w"
      },
      "execution_count": null,
      "outputs": []
    },
    {
      "cell_type": "markdown",
      "source": [
        "##Analyzing Day, Month, and Year\n",
        "\n",
        "###When combining the data sets only the year 2010 was included into the new data set."
      ],
      "metadata": {
        "id": "nYwLNJHYA7TG"
      }
    },
    {
      "cell_type": "code",
      "source": [
        "df['Year'].unique()"
      ],
      "metadata": {
        "id": "1zFaS8lf__t3",
        "colab": {
          "base_uri": "https://localhost:8080/"
        },
        "outputId": "ebd4d111-522e-4097-e4f3-b6b831451963"
      },
      "execution_count": null,
      "outputs": [
        {
          "output_type": "execute_result",
          "data": {
            "text/plain": [
              "array([2010])"
            ]
          },
          "metadata": {},
          "execution_count": 17
        }
      ]
    },
    {
      "cell_type": "code",
      "source": [
        "df['Month'].unique()"
      ],
      "metadata": {
        "id": "SOXHdQ53TBgX",
        "colab": {
          "base_uri": "https://localhost:8080/"
        },
        "outputId": "46314ed1-963c-44ec-8749-79d505228cce"
      },
      "execution_count": null,
      "outputs": [
        {
          "output_type": "execute_result",
          "data": {
            "text/plain": [
              "array([ 5, 12,  2,  3,  9,  4,  7, 11,  6,  8, 10,  1])"
            ]
          },
          "metadata": {},
          "execution_count": 18
        }
      ]
    },
    {
      "cell_type": "code",
      "source": [
        "df['Day'].unique()"
      ],
      "metadata": {
        "id": "ztaYarPoTG1I",
        "colab": {
          "base_uri": "https://localhost:8080/"
        },
        "outputId": "6cfe9898-41f6-4051-a745-bcf50fe4c960"
      },
      "execution_count": null,
      "outputs": [
        {
          "output_type": "execute_result",
          "data": {
            "text/plain": [
              "array([ 2, 19, 26,  3,  4, 16, 23, 30,  5, 14, 21, 28,  6, 18, 25,  7,  8,\n",
              "       13, 20, 27,  9, 17, 24, 10, 15, 22, 29, 11, 12, 31])"
            ]
          },
          "metadata": {},
          "execution_count": 19
        }
      ]
    },
    {
      "cell_type": "markdown",
      "source": [
        "##Holiday and Month Weekly Sales"
      ],
      "metadata": {
        "id": "6mglXQDWEdMn"
      }
    },
    {
      "cell_type": "markdown",
      "source": [
        "#####To be able to understand the factors on weekly sales, we looked into the effects based on the holiday sum and monthly sum. For Holiday the total weekly sales show to the highest count to be during Black Friday while the lowest in New Years. For Monthly weekly sales the lowest sales apear to be during the month of January and the highest during the month of December."
      ],
      "metadata": {
        "id": "N0lgiZRITd51"
      }
    },
    {
      "cell_type": "code",
      "source": [
        "for holiday, data in df.groupby('Holiday'):\n",
        "  print(f'The Holiday is = {holiday}')\n",
        "  weekly = data['Weekly_Sales'].sum()\n",
        "  print(f'Number of weekly sales is = {weekly}')"
      ],
      "metadata": {
        "id": "onCLzqWPEiMI",
        "colab": {
          "base_uri": "https://localhost:8080/"
        },
        "outputId": "54a42ebe-c2fe-4671-b86d-41abe192ce2e"
      },
      "execution_count": null,
      "outputs": [
        {
          "output_type": "stream",
          "name": "stdout",
          "text": [
            "The Holiday is = Black Friday\n",
            "Number of weekly sales is = 65821003.239999995\n",
            "The Holiday is = Christmas\n",
            "Number of weekly sales is = 188877016.27999997\n",
            "The Holiday is = Halloween\n",
            "Number of weekly sales is = 86669500.47\n",
            "The Holiday is = Memorial Day\n",
            "Number of weekly sales is = 47757502.56\n",
            "The Holiday is = New Years Eve\n",
            "Number of weekly sales is = 40432519.0\n",
            "The Holiday is = None\n",
            "Number of weekly sales is = 1814202994.6799996\n",
            "The Holiday is = Thanksgiving\n",
            "Number of weekly sales is = 45125584.18\n"
          ]
        }
      ]
    },
    {
      "cell_type": "code",
      "source": [
        "for month, data in df.groupby('Month'):\n",
        "  print(f'Month = {month}')\n",
        "  week = data['Weekly_Sales'].sum()\n",
        "  print(f'Number of weekly sales = {week}')"
      ],
      "metadata": {
        "id": "PdVoZGhWBA7R",
        "colab": {
          "base_uri": "https://localhost:8080/"
        },
        "outputId": "f5035889-64c2-46b0-8f67-3a6edb81a9b5"
      },
      "execution_count": null,
      "outputs": [
        {
          "output_type": "stream",
          "name": "stdout",
          "text": [
            "Month = 1\n",
            "Number of weekly sales = 42239875.870000005\n",
            "Month = 2\n",
            "Number of weekly sales = 191586880.67000002\n",
            "Month = 3\n",
            "Number of weekly sales = 186226221.18\n",
            "Month = 4\n",
            "Number of weekly sales = 183811789.47\n",
            "Month = 5\n",
            "Number of weekly sales = 280611883.51\n",
            "Month = 6\n",
            "Number of weekly sales = 142436081.64\n",
            "Month = 7\n",
            "Number of weekly sales = 184266355.63\n",
            "Month = 8\n",
            "Number of weekly sales = 184538086.0\n",
            "Month = 9\n",
            "Number of weekly sales = 179704060.73000002\n",
            "Month = 10\n",
            "Number of weekly sales = 231120142.14999998\n",
            "Month = 11\n",
            "Number of weekly sales = 158773134.14\n",
            "Month = 12\n",
            "Number of weekly sales = 323571609.41999996\n"
          ]
        }
      ]
    },
    {
      "cell_type": "markdown",
      "source": [
        "#Graph on Weekly Sales Factors\n"
      ],
      "metadata": {
        "id": "4r-eVnZG4GNj"
      }
    },
    {
      "cell_type": "markdown",
      "source": [
        "#####Importing modules"
      ],
      "metadata": {
        "id": "3h6Ld0cqUxyS"
      }
    },
    {
      "cell_type": "code",
      "source": [
        "from dateutil.parser import parse \n",
        "from scipy.stats import linregress\n",
        "import matplotlib.pyplot as plt\n",
        "from sklearn import linear_model\n",
        "import seaborn as sns\n",
        "import numpy as np"
      ],
      "metadata": {
        "id": "Foru0nrMAHQy"
      },
      "execution_count": null,
      "outputs": []
    },
    {
      "cell_type": "code",
      "source": [
        "sns.set_palette(\"BrBG\")"
      ],
      "metadata": {
        "id": "V7KtrYtkTWWW"
      },
      "execution_count": null,
      "outputs": []
    },
    {
      "cell_type": "markdown",
      "source": [
        "######Turning large tick values like 4500 (billions, millions, thousands)  into 4.5K and turns 4000 into 4K with no zero after the decimal. \n",
        "######This is done by creating a function to change each billion, million, ect., value into 4.5k or 4k. The value is then converted into a string value with no decimal."
      ],
      "metadata": {
        "id": "NSwVuEDzWXzn"
      }
    },
    {
      "cell_type": "code",
      "source": [
        "def reformat_large_tick_values(tick_val, pos):\n",
        "\n",
        "    if tick_val >= 1000000000:\n",
        "        val = round(tick_val/1000000000, 1)\n",
        "        new_tick_format = '{:}B'.format(val)\n",
        "    elif tick_val >= 1000000:\n",
        "        val = round(tick_val/1000000, 1)\n",
        "        new_tick_format = '{:}M'.format(val)\n",
        "    elif tick_val >= 1000:\n",
        "        val = round(tick_val/1000, 1)\n",
        "        new_tick_format = '{:}K'.format(val)\n",
        "    elif tick_val < 1000:\n",
        "        new_tick_format = round(tick_val, 1)\n",
        "    else:\n",
        "        new_tick_format = tick_val\n",
        "\n",
        "    # make new_tick_format into a string value\n",
        "    new_tick_format = str(new_tick_format)\n",
        "    \n",
        "    # code below will keep 4.5M as is but change values such as 4.0M to 4M since that zero after the decimal isn't needed\n",
        "    index_of_decimal = new_tick_format.find(\".\")\n",
        "    \n",
        "    if index_of_decimal != -1:\n",
        "        value_after_decimal = new_tick_format[index_of_decimal+1]\n",
        "        if value_after_decimal == \"0\":\n",
        "            # remove the 0 after the decimal point since it's not needed\n",
        "            new_tick_format = new_tick_format[0:index_of_decimal] + new_tick_format[index_of_decimal+2:]\n",
        "            \n",
        "    return new_tick_formatsns.set(font_scale=1.4)\n",
        "\n",
        "def reformat_large_tick_values(tick_val, pos):\n",
        "    \"\"\"\n",
        "    Turns large tick values (in the billions, millions and thousands) such as 4500 into 4.5K and also appropriately turns 4000 into 4K (no zero after the decimal).\n",
        "    \"\"\"\n",
        "    if tick_val >= 1000000000:\n",
        "        val = round(tick_val/1000000000, 1)\n",
        "        new_tick_format = '{:}B'.format(val)\n",
        "    elif tick_val >= 1000000:\n",
        "        val = round(tick_val/1000000, 1)\n",
        "        new_tick_format = '{:}M'.format(val)\n",
        "    elif tick_val >= 1000:\n",
        "        val = round(tick_val/1000, 1)\n",
        "        new_tick_format = '{:}K'.format(val)\n",
        "    elif tick_val < 1000:\n",
        "        new_tick_format = round(tick_val, 1)\n",
        "    else:\n",
        "        new_tick_format = tick_val\n",
        "\n",
        "    # make new_tick_format into a string value\n",
        "    new_tick_format = str(new_tick_format)\n",
        "    \n",
        "    # code below will keep 4.5M as is but change values such as 4.0M to 4M since that zero after the decimal isn't needed\n",
        "    index_of_decimal = new_tick_format.find(\".\")\n",
        "    \n",
        "    if index_of_decimal != -1:\n",
        "        value_after_decimal = new_tick_format[index_of_decimal+1]\n",
        "        if value_after_decimal == \"0\":\n",
        "            # remove the 0 after the decimal point since it's not needed\n",
        "            new_tick_format = new_tick_format[0:index_of_decimal] + new_tick_format[index_of_decimal+2:]\n",
        "            \n",
        "    return new_tick_format\n",
        "#####################################https://dfrieds.com/data-visualizations/how-format-large-tick-values.html##################################"
      ],
      "metadata": {
        "id": "dRFLf98DYKEV"
      },
      "execution_count": null,
      "outputs": []
    },
    {
      "cell_type": "markdown",
      "source": [
        "# Weekly Sales by Month"
      ],
      "metadata": {
        "id": "jaWeJ1ych037"
      }
    },
    {
      "cell_type": "code",
      "source": [
        "# fig, ax=plt.subplots(figsize=(15,7))\n",
        "# ax = sns.regplot(x=\"Month\", y=\"Weekly_Sales\", data=df, x_jitter=.1)\n",
        "\n",
        "#add ticks\n",
        "#rename axes- make font the same size as the others\n",
        "#add title"
      ],
      "metadata": {
        "id": "Gg23VWuq4Io7"
      },
      "execution_count": null,
      "outputs": []
    },
    {
      "cell_type": "markdown",
      "source": [
        "#####This graph shows the average weekly sales by month showing the analysis from before. Through the trend line, we can see the average sales increasing from January to December."
      ],
      "metadata": {
        "id": "iqCN7mVIVToV"
      }
    },
    {
      "cell_type": "code",
      "source": [
        "#Grouping the Month average then converting it into a list.\n",
        "month_Sales = df.groupby('Month').mean()\n",
        "month_Sales = month_Sales.reset_index()\n",
        "monthList = month_Sales['Month']\n",
        "\n",
        "#Turning the list into an array and reshaping.\n",
        "X = np.array(monthList).reshape(-1,1)\n",
        "\n",
        "#target data is array of shape (n,)\n",
        "#Setting Weekly sales as y \n",
        "y = month_Sales['Weekly_Sales']\n",
        "\n",
        "#Plotting weekly sales and month and decorating plot.\n",
        "plt.figure(figsize=(12,8))\n",
        "\n",
        "plt.title('Average Monthly Sales',fontsize=20)\n",
        "plt.grid(True)\n",
        "plt.xlabel('Month',fontsize=20)\n",
        "plt.ylabel('Sales',fontsize=20)\n",
        "\n",
        "ax = plt.axes()\n",
        "ax.set_facecolor(\"#eae6e1\")\n",
        "\n",
        "plt.gca().get_yaxis().set_major_formatter(\n",
        "    mpl.ticker.FuncFormatter(lambda x, p: format(int(x), ',')))\n",
        "\n",
        "\n",
        "plt.plot(X, y, color='white', linewidth=5)\n",
        "plt.show()\n",
        "\n",
        "#Add ticks\n"
      ],
      "metadata": {
        "id": "E17UPHLU_iRP",
        "colab": {
          "base_uri": "https://localhost:8080/",
          "height": 564
        },
        "outputId": "db6b7497-7f10-4d09-d312-103ce2e1b0e7"
      },
      "execution_count": null,
      "outputs": [
        {
          "output_type": "stream",
          "name": "stderr",
          "text": [
            "/usr/local/lib/python3.7/dist-packages/ipykernel_launcher.py:21: MatplotlibDeprecationWarning: Adding an axes using the same arguments as a previous axes currently reuses the earlier instance.  In a future version, a new instance will always be created and returned.  Meanwhile, this warning can be suppressed, and the future behavior ensured, by passing a unique label to each axes instance.\n"
          ]
        },
        {
          "output_type": "display_data",
          "data": {
            "image/png": "[encoded data removed]",
            "text/plain": [
              "<Figure size 864x576 with 1 Axes>"
            ]
          },
          "metadata": {
            "needs_background": "light"
          }
        }
      ]
    },
    {
      "cell_type": "markdown",
      "source": [
        "#####This graph shows the sum of weekly sales by month showing the same trend as the previous graph. As the year progresses weekly sales increase with certain peaks in May, October and December."
      ],
      "metadata": {
        "id": "pfPnl5sXVrsh"
      }
    },
    {
      "cell_type": "code",
      "source": [
        "#Grouping the Month sum then converting it into a list.\n",
        "month_Sales = df.groupby('Month').sum()\n",
        "month_Sales = month_Sales.reset_index()\n",
        "monthList = month_Sales['Month']\n",
        "\n",
        "#Turning the list into an array and reshaping.\n",
        "X = np.array(monthList).reshape(-1,1)\n",
        "\n",
        "# # target data is array of shape (n,) \n",
        "#Setting Weekly sales as y \n",
        "y = month_Sales['Weekly_Sales']\n",
        "\n",
        "#Plotting weekly sales and month and decorating plot.\n",
        "\n",
        "plt.figure(figsize=(12,8))\n",
        "\n",
        "plt.title('Monthly Sales Over the Year', fontsize=20)\n",
        "plt.grid(True)\n",
        "plt.xlabel('Month', fontsize = 20)\n",
        "plt.ylabel('Total Monthly Sales', fontsize=20)\n",
        "plt.xticks(fontsize=12) \n",
        "plt.yticks(fontsize=12) \n",
        "ax = plt.axes()\n",
        "ax.set_facecolor(\"#eae6e1\")\n",
        "\n",
        "ax.yaxis.set_major_formatter(tick.FuncFormatter(reformat_large_tick_values));\n",
        "\n",
        "plt.plot(X, y, color='white', linewidth=5)\n",
        "\n",
        "plt.show()\n",
        "\n"
      ],
      "metadata": {
        "id": "OK5w9C19AVNE",
        "colab": {
          "base_uri": "https://localhost:8080/",
          "height": 567
        },
        "outputId": "fea6ea97-2df1-406c-82cc-406ee1f19cd0"
      },
      "execution_count": null,
      "outputs": [
        {
          "output_type": "stream",
          "name": "stderr",
          "text": [
            "/usr/local/lib/python3.7/dist-packages/ipykernel_launcher.py:23: MatplotlibDeprecationWarning: Adding an axes using the same arguments as a previous axes currently reuses the earlier instance.  In a future version, a new instance will always be created and returned.  Meanwhile, this warning can be suppressed, and the future behavior ensured, by passing a unique label to each axes instance.\n"
          ]
        },
        {
          "output_type": "display_data",
          "data": {
            "image/png": "[encoded data removed]",
            "text/plain": [
              "<Figure size 864x576 with 1 Axes>"
            ]
          },
          "metadata": {
            "needs_background": "light"
          }
        }
      ]
    },
    {
      "cell_type": "markdown",
      "source": [
        "# Sum of Weekly Sales on Holidays"
      ],
      "metadata": {
        "id": "Z_gp2Ok8hlFO"
      }
    },
    {
      "cell_type": "markdown",
      "source": [
        "#####For Holiday analysis we excluded the None value for a better view of the weekly sales by holidays."
      ],
      "metadata": {
        "id": "8CTE-PBpXmRT"
      }
    },
    {
      "cell_type": "code",
      "source": [
        "#Grouping Holiday with the exclusion of None value.\n",
        "df.drop(df[df['Holiday'] == 'None'].index, inplace=True)"
      ],
      "metadata": {
        "id": "guu28U-RYaft"
      },
      "execution_count": null,
      "outputs": []
    },
    {
      "cell_type": "code",
      "source": [
        "#Taking the sum of the grouped Holiday with the exclusion of None value.\n",
        "\n",
        "holiSum = df.groupby('Holiday').sum()"
      ],
      "metadata": {
        "id": "BeM4aZTgYk_R"
      },
      "execution_count": null,
      "outputs": []
    },
    {
      "cell_type": "markdown",
      "source": [
        "#####The graph below shows the sum of weekly sales for each holiday with Christmas having the highest sum and New Years the lowest."
      ],
      "metadata": {
        "id": "kaYl5ooyX4Hl"
      }
    },
    {
      "cell_type": "code",
      "source": [
        "fig = holiSum[['Weekly_Sales']].sort_values(by='Weekly_Sales',ascending=False).plot.bar(y='Weekly_Sales', rot=0, figsize = [12,8],color='#4b3d33')\n",
        "\n",
        "\n",
        "labels = holiSum['Weekly_Sales'].tolist()\n",
        "\n",
        "labels.sort(reverse=True)\n",
        "\n",
        "labels = [\"{:,}\".format(int(x)) for x in labels]\n",
        "rects = fig.patches\n",
        "\n",
        "for rect, label in zip(rects, labels): \n",
        "    height = rect.get_height()\n",
        "    fig.text(\n",
        "        rect.get_x() + rect.get_width() / 2, height + 1500000, label, ha=\"center\", va=\"bottom\"\n",
        "    )\n",
        "\n",
        "fig.yaxis.set_major_formatter(tick.FuncFormatter(reformat_large_tick_values));\n",
        "\n",
        "plt.xticks(rotation=360, ha=\"center\")\n",
        "fig.set_facecolor('#eae6e1')\n",
        "\n",
        "plt.xlabel('Holidays', fontsize=15)\n",
        "plt.ylabel('Sum Weekly Sales', fontsize=15)\n",
        "plt.suptitle('Sum of Weekly Sales on Holidays', fontsize=20)\n",
        "plt.xticks(fontsize=12) \n",
        "plt.yticks(fontsize=12) "
      ],
      "metadata": {
        "colab": {
          "base_uri": "https://localhost:8080/",
          "height": 614
        },
        "id": "BoX1dGC1Yos3",
        "outputId": "2d97929d-4ac7-4e18-e26a-4f11ad8a44fa"
      },
      "execution_count": null,
      "outputs": [
        {
          "output_type": "execute_result",
          "data": {
            "text/plain": [
              "(array([0.00e+00, 2.50e+07, 5.00e+07, 7.50e+07, 1.00e+08, 1.25e+08,\n",
              "        1.50e+08, 1.75e+08, 2.00e+08]),\n",
              " <a list of 9 Text major ticklabel objects>)"
            ]
          },
          "metadata": {},
          "execution_count": 30
        },
        {
          "output_type": "display_data",
          "data": {
            "image/png": "[encoded data removed]",
            "text/plain": [
              "<Figure size 864x576 with 1 Axes>"
            ]
          },
          "metadata": {
            "needs_background": "light"
          }
        }
      ]
    },
    {
      "cell_type": "markdown",
      "source": [
        "#####The graph below shows the average of weekly sales for each holiday showing a different trend. We see that Black Friday has the highest average weekly sales and New Years the lowest."
      ],
      "metadata": {
        "id": "QmNYjZAWYVKX"
      }
    },
    {
      "cell_type": "code",
      "source": [
        "holiMean = df.groupby('Holiday').mean()\n",
        "\n",
        "fig = holiMean[['Weekly_Sales']].sort_values(by='Weekly_Sales',ascending=False).plot.bar(y='Weekly_Sales',color='#89663f', rot=0, figsize = [10,10])\n",
        "\n",
        "mean = df['Weekly_Sales'].mean()\n",
        "fig.axhline(mean,color = 'black')\n",
        "\n",
        "labels = holiMean['Weekly_Sales'].tolist()\n",
        "\n",
        "labels.sort(reverse=True)\n",
        "\n",
        "rects = fig.patches\n",
        "for rect, label in zip(rects, labels):\n",
        "  height = rect.get_height()\n",
        "  if float(label) < 15500:\n",
        "    fig.text(\n",
        "        rect.get_x() + rect.get_width() / 2, height+50, \"{:,}\".format(round(label,2)), ha=\"center\", va=\"bottom\"\n",
        "    )\n",
        "  else:\n",
        "    fig.text(\n",
        "        rect.get_x() + rect.get_width() / 2, height+350, \"{:,}\".format(round(label,2)), ha=\"center\", va=\"bottom\"\n",
        "    )\n",
        "\n",
        "fig.get_yaxis().set_major_formatter(\n",
        "    mpl.ticker.FuncFormatter(lambda x, p: format(int(x), ',')))\n",
        "fig.set_facecolor('#eae6e1')\n",
        "\n",
        "plt.figsize=(12,16)\n",
        "plt.xlabel('Holiday', fontsize=15)\n",
        "plt.ylabel('Average Weekly Sales', fontsize=15)\n",
        "plt.suptitle('Average Weekly Sales on Holidays', fontsize=20)\n",
        "plt.xticks(fontsize=12) \n",
        "plt.yticks(fontsize=12) "
      ],
      "metadata": {
        "colab": {
          "base_uri": "https://localhost:8080/",
          "height": 721
        },
        "id": "-_DfQaxeVjqx",
        "outputId": "2f5fbb53-ef4c-41a5-989f-caca71a10274"
      },
      "execution_count": null,
      "outputs": [
        {
          "output_type": "execute_result",
          "data": {
            "text/plain": [
              "(array([    0.,  5000., 10000., 15000., 20000., 25000.]),\n",
              " <a list of 6 Text major ticklabel objects>)"
            ]
          },
          "metadata": {},
          "execution_count": 31
        },
        {
          "output_type": "display_data",
          "data": {
            "image/png": "[encoded data removed]",
            "text/plain": [
              "<Figure size 720x720 with 1 Axes>"
            ]
          },
          "metadata": {
            "needs_background": "light"
          }
        }
      ]
    },
    {
      "cell_type": "markdown",
      "source": [
        "#Temperature on Weekly Sales"
      ],
      "metadata": {
        "id": "4Fiw0rfnZvwQ"
      }
    },
    {
      "cell_type": "markdown",
      "source": [
        "#####The plot below shows the analysis on the effects of tempeture on weekly sales ranging from 0 to 95 degrees. Temperature is then binned by 5 and grouped by average."
      ],
      "metadata": {
        "id": "oax2rtckZ0XP"
      }
    },
    {
      "cell_type": "code",
      "source": [
        "#Temperature binned by 5 & Average Weekly Sales\n",
        "\n",
        "df['bin'] = pd.cut(df['Temperature'], bins=range(0,100,5), labels=[f'{l}-{l+5}' for l in range(0,91,5)])\n",
        "\n",
        "#Grouped bin by average\n",
        "mean_temp = df.groupby('bin').mean()\n",
        "\n",
        "fig = mean_temp.plot(kind='bar',y='Weekly_Sales',figsize=(16,6), color='#513a25')\n",
        "\n",
        "#Taking the average of the weekly sales\n",
        "mean = df['Weekly_Sales'].mean()\n",
        "\n",
        "#GRaph plotting and decorating\n",
        "fig.axhline(mean,color = 'black')\n",
        "\n",
        "fig.get_yaxis().set_major_formatter(\n",
        "    mpl.ticker.FuncFormatter(lambda x, p: format(int(x), ',')))\n",
        "plt.xticks(rotation=360, ha=\"center\")\n",
        "fig.set_facecolor('#eae6e1')\n",
        "\n",
        "\n",
        "plt.figsize=(12,8)\n",
        "plt.xlabel('Temperature', fontsize=15)\n",
        "plt.ylabel('Average Weekly Sales', fontsize=15)\n",
        "plt.suptitle('Average Weekly Sales by Temperature', fontsize=20)\n",
        "plt.xticks(fontsize=12) \n",
        "plt.yticks(fontsize=12) "
      ],
      "metadata": {
        "colab": {
          "base_uri": "https://localhost:8080/",
          "height": 474
        },
        "id": "ZkYlMG8FYCjc",
        "outputId": "bab74009-c75e-4daa-9894-d7d66240c71e"
      },
      "execution_count": null,
      "outputs": [
        {
          "output_type": "execute_result",
          "data": {
            "text/plain": [
              "(array([    0.,  5000., 10000., 15000., 20000., 25000., 30000.]),\n",
              " <a list of 7 Text major ticklabel objects>)"
            ]
          },
          "metadata": {},
          "execution_count": 32
        },
        {
          "output_type": "display_data",
          "data": {
            "image/png": "[encoded data removed]",
            "text/plain": [
              "<Figure size 1152x432 with 1 Axes>"
            ]
          },
          "metadata": {
            "needs_background": "light"
          }
        }
      ]
    },
    {
      "cell_type": "markdown",
      "source": [
        "#Size of Store "
      ],
      "metadata": {
        "id": "wdoFbXLsbAQb"
      }
    },
    {
      "cell_type": "markdown",
      "source": [
        "#######Analysis was done based on the size of a store and its effect on the average weekly sales. This was done by grouping the size by average on weekly sales."
      ],
      "metadata": {
        "id": "6waWxBQEbHSo"
      }
    },
    {
      "cell_type": "code",
      "source": [
        "#Size of store x & avg weekly sales y\n",
        "sizeMean = df.groupby('Size').mean()\n",
        "sizeMean = sizeMean.reset_index()\n",
        "sizeList = sizeMean['Size']\n",
        "\n",
        "# LinearRegression will expect an array of shape (n, 1) \n",
        "# for the \"Training data\"\n",
        "X = np.array(sizeList).reshape(-1,1)\n",
        "\n",
        "# target data is array of shape (n,) \n",
        "y = sizeMean['Weekly_Sales']\n",
        "\n",
        "#Plotting and decorating\n",
        "plt.figure(figsize=(12,8))\n",
        "\n",
        "plt.xlabel('Size of Store', fontsize=15)\n",
        "plt.ylabel('Average Weekly Sales', fontsize=15)\n",
        "plt.suptitle('Average Weekly Sales According to Size', fontsize=20)\n",
        "plt.grid(True)\n",
        "plt.xticks(fontsize=12) \n",
        "plt.yticks(fontsize=12) \n",
        "\n",
        "ax.get_yaxis().set_major_formatter(\n",
        "    mpl.ticker.FuncFormatter(lambda x, p: format(int(x), ',')))\n",
        "\n",
        "ax = plt.axes()\n",
        "ax.set_facecolor(\"#eae6e1\")\n",
        "\n",
        "#adding tick marks\n",
        "plt.gca().get_yaxis().set_major_formatter(\n",
        "    mpl.ticker.FuncFormatter(lambda x, p: format(int(x), ',')))\n",
        "\n",
        "plt.gca().get_xaxis().set_major_formatter(\n",
        "    mpl.ticker.FuncFormatter(lambda x, p: format(int(x), ',')))\n",
        "\n",
        "#Including a linear regression line\n",
        "\n",
        "trend = linear_model.LinearRegression()\n",
        "model = trend.fit(X, y)\n",
        "scatter_y_pred = trend.predict(X)\n",
        "plt.plot(X,y, color = '#513a25', linewidth=1)\n",
        "plt.plot(X, scatter_y_pred, color='black', linewidth=2, linestyle=':')\n",
        "plt.show()"
      ],
      "metadata": {
        "colab": {
          "base_uri": "https://localhost:8080/",
          "height": 599
        },
        "id": "tIUSTWCzYAGY",
        "outputId": "6952fac8-ccaa-4b6e-e097-7b475a6a9680"
      },
      "execution_count": null,
      "outputs": [
        {
          "output_type": "stream",
          "name": "stderr",
          "text": [
            "/usr/local/lib/python3.7/dist-packages/ipykernel_launcher.py:26: MatplotlibDeprecationWarning: Adding an axes using the same arguments as a previous axes currently reuses the earlier instance.  In a future version, a new instance will always be created and returned.  Meanwhile, this warning can be suppressed, and the future behavior ensured, by passing a unique label to each axes instance.\n"
          ]
        },
        {
          "output_type": "display_data",
          "data": {
            "image/png": "[encoded data removed]",
            "text/plain": [
              "<Figure size 864x576 with 1 Axes>"
            ]
          },
          "metadata": {
            "needs_background": "light"
          }
        }
      ]
    },
    {
      "cell_type": "markdown",
      "source": [
        "# Correlation of Weekly Sales and Factors"
      ],
      "metadata": {
        "id": "mIY9U4-HhcUp"
      }
    },
    {
      "cell_type": "markdown",
      "source": [
        "#####Based on the analysis done on deparment store size, temperature, and holidays on weekly sales, we further took the correlation for a better understanding. Correlation shows that size has the most effect on weekly sales, but the correlation is too small to have a big affect on weekly sales."
      ],
      "metadata": {
        "id": "4_PESaTYb4zj"
      }
    },
    {
      "cell_type": "code",
      "source": [
        "cor = df.corr().loc[['Size','Temperature','IsHoliday', 'Month'],['Weekly_Sales']]**2\n",
        "cor"
      ],
      "metadata": {
        "colab": {
          "base_uri": "https://localhost:8080/",
          "height": 175
        },
        "id": "BcBpslvoYpBg",
        "outputId": "5615676b-a309-466e-bc4b-806a864a4b16"
      },
      "execution_count": null,
      "outputs": [
        {
          "output_type": "execute_result",
          "data": {
            "text/html": [
              "\n",
              "  <div id=\"df-87ce7cda-5c0f-413b-9cb4-94b3eea0e111\">\n",
              "    <div class=\"colab-df-container\">\n",
              "      <div>\n",
              "<style scoped>\n",
              "    .dataframe tbody tr th:only-of-type {\n",
              "        vertical-align: middle;\n",
              "    }\n",
              "\n",
              "    .dataframe tbody tr th {\n",
              "        vertical-align: top;\n",
              "    }\n",
              "\n",
              "    .dataframe thead th {\n",
              "        text-align: right;\n",
              "    }\n",
              "</style>\n",
              "<table border=\"1\" class=\"dataframe\">\n",
              "  <thead>\n",
              "    <tr style=\"text-align: right;\">\n",
              "      <th></th>\n",
              "      <th>Weekly_Sales</th>\n",
              "    </tr>\n",
              "  </thead>\n",
              "  <tbody>\n",
              "    <tr>\n",
              "      <th>Size</th>\n",
              "      <td>0.053185</td>\n",
              "    </tr>\n",
              "    <tr>\n",
              "      <th>Temperature</th>\n",
              "      <td>0.002041</td>\n",
              "    </tr>\n",
              "    <tr>\n",
              "      <th>IsHoliday</th>\n",
              "      <td>NaN</td>\n",
              "    </tr>\n",
              "    <tr>\n",
              "      <th>Month</th>\n",
              "      <td>0.001679</td>\n",
              "    </tr>\n",
              "  </tbody>\n",
              "</table>\n",
              "</div>\n",
              "      <button class=\"colab-df-convert\" onclick=\"convertToInteractive('df-87ce7cda-5c0f-413b-9cb4-94b3eea0e111')\"\n",
              "              title=\"Convert this dataframe to an interactive table.\"\n",
              "              style=\"display:none;\">\n",
              "        \n",
              "  <svg xmlns=\"http://www.w3.org/2000/svg\" height=\"24px\"viewBox=\"0 0 24 24\"\n",
              "       width=\"24px\">\n",
              "    <path d=\"M0 0h24v24H0V0z\" fill=\"none\"/>\n",
              "    <path d=\"M18.56 5.44l.94 2.06.94-2.06 2.06-.94-2.06-.94-.94-2.06-.94 2.06-2.06.94zm-11 1L8.5 8.5l.94-2.06 2.06-.94-2.06-.94L8.5 2.5l-.94 2.06-2.06.94zm10 10l.94 2.06.94-2.06 2.06-.94-2.06-.94-.94-2.06-.94 2.06-2.06.94z\"/><path d=\"M17.41 7.96l-1.37-1.37c-.4-.4-.92-.59-1.43-.59-.52 0-1.04.2-1.43.59L10.3 9.45l-7.72 7.72c-.78.78-.78 2.05 0 2.83L4 21.41c.39.39.9.59 1.41.59.51 0 1.02-.2 1.41-.59l7.78-7.78 2.81-2.81c.8-.78.8-2.07 0-2.86zM5.41 20L4 18.59l7.72-7.72 1.47 1.35L5.41 20z\"/>\n",
              "  </svg>\n",
              "      </button>\n",
              "      \n",
              "  <style>\n",
              "    .colab-df-container {\n",
              "      display:flex;\n",
              "      flex-wrap:wrap;\n",
              "      gap: 12px;\n",
              "    }\n",
              "\n",
              "    .colab-df-convert {\n",
              "      background-color: #E8F0FE;\n",
              "      border: none;\n",
              "      border-radius: 50%;\n",
              "      cursor: pointer;\n",
              "      display: none;\n",
              "      fill: #1967D2;\n",
              "      height: 32px;\n",
              "      padding: 0 0 0 0;\n",
              "      width: 32px;\n",
              "    }\n",
              "\n",
              "    .colab-df-convert:hover {\n",
              "      background-color: #E2EBFA;\n",
              "      box-shadow: 0px 1px 2px rgba(60, 64, 67, 0.3), 0px 1px 3px 1px rgba(60, 64, 67, 0.15);\n",
              "      fill: #174EA6;\n",
              "    }\n",
              "\n",
              "    [theme=dark] .colab-df-convert {\n",
              "      background-color: #3B4455;\n",
              "      fill: #D2E3FC;\n",
              "    }\n",
              "\n",
              "    [theme=dark] .colab-df-convert:hover {\n",
              "      background-color: #434B5C;\n",
              "      box-shadow: 0px 1px 3px 1px rgba(0, 0, 0, 0.15);\n",
              "      filter: drop-shadow(0px 1px 2px rgba(0, 0, 0, 0.3));\n",
              "      fill: #FFFFFF;\n",
              "    }\n",
              "  </style>\n",
              "\n",
              "      <script>\n",
              "        const buttonEl =\n",
              "          document.querySelector('#df-87ce7cda-5c0f-413b-9cb4-94b3eea0e111 button.colab-df-convert');\n",
              "        buttonEl.style.display =\n",
              "          google.colab.kernel.accessAllowed ? 'block' : 'none';\n",
              "\n",
              "        async function convertToInteractive(key) {\n",
              "          const element = document.querySelector('#df-87ce7cda-5c0f-413b-9cb4-94b3eea0e111');\n",
              "          const dataTable =\n",
              "            await google.colab.kernel.invokeFunction('convertToInteractive',\n",
              "                                                     [key], {});\n",
              "          if (!dataTable) return;\n",
              "\n",
              "          const docLinkHtml = 'Like what you see? Visit the ' +\n",
              "            '<a target=\"_blank\" href=https://colab.research.google.com/notebooks/data_table.ipynb>data table notebook</a>'\n",
              "            + ' to learn more about interactive tables.';\n",
              "          element.innerHTML = '';\n",
              "          dataTable['output_type'] = 'display_data';\n",
              "          await google.colab.output.renderOutput(dataTable, element);\n",
              "          const docLink = document.createElement('div');\n",
              "          docLink.innerHTML = docLinkHtml;\n",
              "          element.appendChild(docLink);\n",
              "        }\n",
              "      </script>\n",
              "    </div>\n",
              "  </div>\n",
              "  "
            ],
            "text/plain": [
              "             Weekly_Sales\n",
              "Size             0.053185\n",
              "Temperature      0.002041\n",
              "IsHoliday             NaN\n",
              "Month            0.001679"
            ]
          },
          "metadata": {},
          "execution_count": 38
        }
      ]
    },
    {
      "cell_type": "markdown",
      "source": [
        "# Not Being Used"
      ],
      "metadata": {
        "id": "tKXp5P6NhXcB"
      }
    },
    {
      "cell_type": "markdown",
      "source": [
        "#####Data we saw had no correlation on weekly sales included CPI and Unemployment."
      ],
      "metadata": {
        "id": "gD0j81JrchzC"
      }
    },
    {
      "cell_type": "code",
      "source": [
        "#This isn't being used ###### HIDDEN SLIDE- delete after on presentation\n",
        "fig, ax = plt.subplots(figsize=(15,7))\n",
        "df.groupby('Holiday')['CPI'].mean().plot(kind='bar',legend=True, color ='#513a25')\n",
        "ax.legend(loc='upper left')\n",
        "ax.set_title('Holiday CPI')\n",
        "# ax.grid(True)\n",
        "plt.xlabel('Holiday')\n",
        "plt.ylabel('CPI')\n",
        "plt.xticks(rotation=360, ha=\"center\")\n",
        "plt.show()"
      ],
      "metadata": {
        "id": "wv_LY2D__n5o",
        "colab": {
          "base_uri": "https://localhost:8080/",
          "height": 458
        },
        "outputId": "05312ef8-8e04-457b-adb5-78174a113afa"
      },
      "execution_count": null,
      "outputs": [
        {
          "output_type": "display_data",
          "data": {
            "image/png": "[encoded data removed]",
            "text/plain": [
              "<Figure size 1080x504 with 1 Axes>"
            ]
          },
          "metadata": {
            "needs_background": "light"
          }
        }
      ]
    },
    {
      "cell_type": "code",
      "source": [
        "#This isn't being used ###### HIDDEN SLIDE- delete after on presentation\n",
        "fig, ax = plt.subplots(figsize=(15,7))\n",
        "df.groupby('Month')['CPI'].mean().plot(kind='bar')\n",
        "ax.legend(loc='upper left')\n",
        "ax.set_title('Month CPI')\n",
        "# ax.grid(True)\n",
        "plt.xlabel('Month')\n",
        "plt.ylabel('CPI')\n",
        "plt.xticks(rotation=360, ha=\"center\")\n",
        "plt.show()"
      ],
      "metadata": {
        "id": "MJiUCcQS_snC",
        "colab": {
          "base_uri": "https://localhost:8080/",
          "height": 458
        },
        "outputId": "b0d392ee-94ac-41cd-89ed-67c1027fa799"
      },
      "execution_count": null,
      "outputs": [
        {
          "output_type": "display_data",
          "data": {
            "image/png": "[encoded data removed]",
            "text/plain": [
              "<Figure size 1080x504 with 1 Axes>"
            ]
          },
          "metadata": {
            "needs_background": "light"
          }
        }
      ]
    }
  ]
}