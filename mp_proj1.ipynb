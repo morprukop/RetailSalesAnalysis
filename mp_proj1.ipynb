{
  "cells": [
    {
      "cell_type": "markdown",
      "metadata": {
        "id": "view-in-github",
        "colab_type": "text"
      },
      "source": [
        "<a href=\"https://colab.research.google.com/github/morprukop/RetailSalesAnalysis/blob/morgan/mp_proj1.ipynb\" target=\"_parent\"><img src=\"https://colab.research.google.com/assets/colab-badge.svg\" alt=\"Open In Colab\"/></a>"
      ]
    },
    {
      "cell_type": "code",
      "execution_count": null,
      "metadata": {
        "id": "1jhkOum3ebMQ"
      },
      "outputs": [],
      "source": [
        "import pandas as pd\n",
        "import datetime"
      ]
    },
    {
      "cell_type": "code",
      "execution_count": null,
      "metadata": {
        "colab": {
          "base_uri": "https://localhost:8080/"
        },
        "id": "_F-OAUEYdDBM",
        "outputId": "f6cfbce2-163d-42cc-fc6b-4e6a26e5012f"
      },
      "outputs": [
        {
          "name": "stdout",
          "output_type": "stream",
          "text": [
            "Drive already mounted at /content/drive; to attempt to forcibly remount, call drive.mount(\"/content/drive\", force_remount=True).\n"
          ]
        }
      ],
      "source": [
        "from google.colab import drive\n",
        "drive.mount('/content/drive')\n",
        "drive_dir = '/content/drive/My Drive/Shareddrives/Project_1/'"
      ]
    },
    {
      "cell_type": "code",
      "execution_count": null,
      "metadata": {
        "colab": {
          "base_uri": "https://localhost:8080/"
        },
        "id": "kL2W5oNRX2MD",
        "outputId": "6ba1fd1b-a54f-460f-a0fc-14b49b3237b4"
      },
      "outputs": [
        {
          "data": {
            "text/plain": [
              "Store                    int64\n",
              "Date            datetime64[ns]\n",
              "Temperature            float64\n",
              "Fuel_Price             float64\n",
              "MarkDown1              float64\n",
              "MarkDown2              float64\n",
              "MarkDown3              float64\n",
              "MarkDown4              float64\n",
              "MarkDown5              float64\n",
              "CPI                    float64\n",
              "Unemployment           float64\n",
              "IsHoliday                 bool\n",
              "dtype: object"
            ]
          },
          "execution_count": 3,
          "metadata": {},
          "output_type": "execute_result"
        }
      ],
      "source": [
        "df_features = pd.read_csv('/content/drive/Shareddrives/Project_1/store_features.csv')\n",
        "df_features['Date'] = pd.to_datetime(df_features['Date'])\n",
        "df_features.dtypes"
      ]
    },
    {
      "cell_type": "code",
      "execution_count": null,
      "metadata": {
        "colab": {
          "base_uri": "https://localhost:8080/"
        },
        "id": "dRiFhftOX_Cn",
        "outputId": "bbe55264-ba30-42f8-f3d5-76602998519c"
      },
      "outputs": [
        {
          "data": {
            "text/plain": [
              "Store                    int64\n",
              "Dept                     int64\n",
              "Date            datetime64[ns]\n",
              "Weekly_Sales           float64\n",
              "IsHoliday                 bool\n",
              "dtype: object"
            ]
          },
          "execution_count": 4,
          "metadata": {},
          "output_type": "execute_result"
        }
      ],
      "source": [
        "df_sales = pd.read_csv('/content/drive/Shareddrives/Project_1/sales.csv')\n",
        "df_sales['Date'] = pd.to_datetime(df_sales['Date'])\n",
        "df_sales.dtypes"
      ]
    },
    {
      "cell_type": "markdown",
      "metadata": {
        "id": "KZCLf0yKXk1i"
      },
      "source": [
        "# Data Cleaning"
      ]
    },
    {
      "cell_type": "code",
      "execution_count": null,
      "metadata": {
        "colab": {
          "base_uri": "https://localhost:8080/"
        },
        "id": "vu724kXg3KVF",
        "outputId": "690e81ef-09eb-41ed-a4f2-6d37b90109c5"
      },
      "outputs": [
        {
          "data": {
            "text/plain": [
              "Store              0\n",
              "Date               0\n",
              "Temperature        0\n",
              "Fuel_Price         0\n",
              "MarkDown1       4158\n",
              "MarkDown2       5269\n",
              "MarkDown3       4577\n",
              "MarkDown4       4726\n",
              "MarkDown5       4140\n",
              "CPI              585\n",
              "Unemployment     585\n",
              "IsHoliday          0\n",
              "dtype: int64"
            ]
          },
          "execution_count": 5,
          "metadata": {},
          "output_type": "execute_result"
        }
      ],
      "source": [
        "df_features.isna().sum()"
      ]
    },
    {
      "cell_type": "code",
      "execution_count": null,
      "metadata": {
        "colab": {
          "base_uri": "https://localhost:8080/"
        },
        "id": "YkGz8Gw23QvP",
        "outputId": "b30eb607-d317-422b-a007-d9e94ebb0159"
      },
      "outputs": [
        {
          "data": {
            "text/plain": [
              "Store           0\n",
              "Dept            0\n",
              "Date            0\n",
              "Weekly_Sales    0\n",
              "IsHoliday       0\n",
              "dtype: int64"
            ]
          },
          "execution_count": 6,
          "metadata": {},
          "output_type": "execute_result"
        }
      ],
      "source": [
        "df_sales.isna().sum()"
      ]
    },
    {
      "cell_type": "code",
      "execution_count": null,
      "metadata": {
        "colab": {
          "base_uri": "https://localhost:8080/"
        },
        "id": "sk9WPKas3c2P",
        "outputId": "1f30d5cc-bca9-46d9-9e68-2ffa495990df"
      },
      "outputs": [
        {
          "data": {
            "text/plain": [
              "(8190, 12)"
            ]
          },
          "execution_count": 7,
          "metadata": {},
          "output_type": "execute_result"
        }
      ],
      "source": [
        "df_features.shape"
      ]
    },
    {
      "cell_type": "code",
      "execution_count": null,
      "metadata": {
        "colab": {
          "base_uri": "https://localhost:8080/"
        },
        "id": "ciX7WSziDIIX",
        "outputId": "6d07d515-b2d1-4716-ce4e-09dd62ce0059"
      },
      "outputs": [
        {
          "data": {
            "text/plain": [
              "(140679, 5)"
            ]
          },
          "execution_count": 8,
          "metadata": {},
          "output_type": "execute_result"
        }
      ],
      "source": [
        "df_sales.shape"
      ]
    },
    {
      "cell_type": "markdown",
      "metadata": {
        "id": "tiQ1VHm5Cwtc"
      },
      "source": [
        "Replace our missing/Na/NaNs with 0's for our markdown columns \n",
        "\n",
        "Remove incorrect IsHoliday column from both features and sales datasets\n",
        "\n",
        "Drop the NAs from the features dataset\n",
        "\n",
        "merge the sales and features datasets together on Store and Date columns"
      ]
    },
    {
      "cell_type": "code",
      "execution_count": null,
      "metadata": {
        "colab": {
          "base_uri": "https://localhost:8080/"
        },
        "id": "gAndj9Au3WgB",
        "outputId": "a18bc6fe-54a7-4ed1-b393-017f458e6771"
      },
      "outputs": [
        {
          "data": {
            "text/plain": [
              "(7605, 6)"
            ]
          },
          "execution_count": 9,
          "metadata": {},
          "output_type": "execute_result"
        }
      ],
      "source": [
        "df_features = df_features.drop(['IsHoliday','MarkDown1','MarkDown2','MarkDown3','MarkDown4','MarkDown5'], axis = 1)\n",
        "df_sales = df_sales.drop(['IsHoliday'], axis = 1)\n",
        "\n",
        "df_feat = df_features.dropna()\n",
        "df_feat.shape"
      ]
    },
    {
      "cell_type": "code",
      "execution_count": null,
      "metadata": {
        "colab": {
          "base_uri": "https://localhost:8080/",
          "height": 206
        },
        "id": "uCjeXelc-Wgp",
        "outputId": "57ac2490-776b-499c-cf9e-f0d2e3fa1901"
      },
      "outputs": [
        {
          "data": {
            "text/html": [
              "\n",
              "  <div id=\"df-a0937597-ed7f-455d-b60e-66bd31bedf0b\">\n",
              "    <div class=\"colab-df-container\">\n",
              "      <div>\n",
              "<style scoped>\n",
              "    .dataframe tbody tr th:only-of-type {\n",
              "        vertical-align: middle;\n",
              "    }\n",
              "\n",
              "    .dataframe tbody tr th {\n",
              "        vertical-align: top;\n",
              "    }\n",
              "\n",
              "    .dataframe thead th {\n",
              "        text-align: right;\n",
              "    }\n",
              "</style>\n",
              "<table border=\"1\" class=\"dataframe\">\n",
              "  <thead>\n",
              "    <tr style=\"text-align: right;\">\n",
              "      <th></th>\n",
              "      <th>Store</th>\n",
              "      <th>Date</th>\n",
              "      <th>Temperature</th>\n",
              "      <th>Fuel_Price</th>\n",
              "      <th>CPI</th>\n",
              "      <th>Unemployment</th>\n",
              "      <th>Dept</th>\n",
              "      <th>Weekly_Sales</th>\n",
              "    </tr>\n",
              "  </thead>\n",
              "  <tbody>\n",
              "    <tr>\n",
              "      <th>0</th>\n",
              "      <td>1</td>\n",
              "      <td>2010-05-02</td>\n",
              "      <td>42.31</td>\n",
              "      <td>2.572</td>\n",
              "      <td>211.096358</td>\n",
              "      <td>8.106</td>\n",
              "      <td>1</td>\n",
              "      <td>24924.50</td>\n",
              "    </tr>\n",
              "    <tr>\n",
              "      <th>1</th>\n",
              "      <td>1</td>\n",
              "      <td>2010-05-02</td>\n",
              "      <td>42.31</td>\n",
              "      <td>2.572</td>\n",
              "      <td>211.096358</td>\n",
              "      <td>8.106</td>\n",
              "      <td>2</td>\n",
              "      <td>50605.27</td>\n",
              "    </tr>\n",
              "    <tr>\n",
              "      <th>2</th>\n",
              "      <td>1</td>\n",
              "      <td>2010-05-02</td>\n",
              "      <td>42.31</td>\n",
              "      <td>2.572</td>\n",
              "      <td>211.096358</td>\n",
              "      <td>8.106</td>\n",
              "      <td>3</td>\n",
              "      <td>13740.12</td>\n",
              "    </tr>\n",
              "    <tr>\n",
              "      <th>3</th>\n",
              "      <td>1</td>\n",
              "      <td>2010-05-02</td>\n",
              "      <td>42.31</td>\n",
              "      <td>2.572</td>\n",
              "      <td>211.096358</td>\n",
              "      <td>8.106</td>\n",
              "      <td>4</td>\n",
              "      <td>39954.04</td>\n",
              "    </tr>\n",
              "    <tr>\n",
              "      <th>4</th>\n",
              "      <td>1</td>\n",
              "      <td>2010-05-02</td>\n",
              "      <td>42.31</td>\n",
              "      <td>2.572</td>\n",
              "      <td>211.096358</td>\n",
              "      <td>8.106</td>\n",
              "      <td>5</td>\n",
              "      <td>32229.38</td>\n",
              "    </tr>\n",
              "  </tbody>\n",
              "</table>\n",
              "</div>\n",
              "      <button class=\"colab-df-convert\" onclick=\"convertToInteractive('df-a0937597-ed7f-455d-b60e-66bd31bedf0b')\"\n",
              "              title=\"Convert this dataframe to an interactive table.\"\n",
              "              style=\"display:none;\">\n",
              "        \n",
              "  <svg xmlns=\"http://www.w3.org/2000/svg\" height=\"24px\"viewBox=\"0 0 24 24\"\n",
              "       width=\"24px\">\n",
              "    <path d=\"M0 0h24v24H0V0z\" fill=\"none\"/>\n",
              "    <path d=\"M18.56 5.44l.94 2.06.94-2.06 2.06-.94-2.06-.94-.94-2.06-.94 2.06-2.06.94zm-11 1L8.5 8.5l.94-2.06 2.06-.94-2.06-.94L8.5 2.5l-.94 2.06-2.06.94zm10 10l.94 2.06.94-2.06 2.06-.94-2.06-.94-.94-2.06-.94 2.06-2.06.94z\"/><path d=\"M17.41 7.96l-1.37-1.37c-.4-.4-.92-.59-1.43-.59-.52 0-1.04.2-1.43.59L10.3 9.45l-7.72 7.72c-.78.78-.78 2.05 0 2.83L4 21.41c.39.39.9.59 1.41.59.51 0 1.02-.2 1.41-.59l7.78-7.78 2.81-2.81c.8-.78.8-2.07 0-2.86zM5.41 20L4 18.59l7.72-7.72 1.47 1.35L5.41 20z\"/>\n",
              "  </svg>\n",
              "      </button>\n",
              "      \n",
              "  <style>\n",
              "    .colab-df-container {\n",
              "      display:flex;\n",
              "      flex-wrap:wrap;\n",
              "      gap: 12px;\n",
              "    }\n",
              "\n",
              "    .colab-df-convert {\n",
              "      background-color: #E8F0FE;\n",
              "      border: none;\n",
              "      border-radius: 50%;\n",
              "      cursor: pointer;\n",
              "      display: none;\n",
              "      fill: #1967D2;\n",
              "      height: 32px;\n",
              "      padding: 0 0 0 0;\n",
              "      width: 32px;\n",
              "    }\n",
              "\n",
              "    .colab-df-convert:hover {\n",
              "      background-color: #E2EBFA;\n",
              "      box-shadow: 0px 1px 2px rgba(60, 64, 67, 0.3), 0px 1px 3px 1px rgba(60, 64, 67, 0.15);\n",
              "      fill: #174EA6;\n",
              "    }\n",
              "\n",
              "    [theme=dark] .colab-df-convert {\n",
              "      background-color: #3B4455;\n",
              "      fill: #D2E3FC;\n",
              "    }\n",
              "\n",
              "    [theme=dark] .colab-df-convert:hover {\n",
              "      background-color: #434B5C;\n",
              "      box-shadow: 0px 1px 3px 1px rgba(0, 0, 0, 0.15);\n",
              "      filter: drop-shadow(0px 1px 2px rgba(0, 0, 0, 0.3));\n",
              "      fill: #FFFFFF;\n",
              "    }\n",
              "  </style>\n",
              "\n",
              "      <script>\n",
              "        const buttonEl =\n",
              "          document.querySelector('#df-a0937597-ed7f-455d-b60e-66bd31bedf0b button.colab-df-convert');\n",
              "        buttonEl.style.display =\n",
              "          google.colab.kernel.accessAllowed ? 'block' : 'none';\n",
              "\n",
              "        async function convertToInteractive(key) {\n",
              "          const element = document.querySelector('#df-a0937597-ed7f-455d-b60e-66bd31bedf0b');\n",
              "          const dataTable =\n",
              "            await google.colab.kernel.invokeFunction('convertToInteractive',\n",
              "                                                     [key], {});\n",
              "          if (!dataTable) return;\n",
              "\n",
              "          const docLinkHtml = 'Like what you see? Visit the ' +\n",
              "            '<a target=\"_blank\" href=https://colab.research.google.com/notebooks/data_table.ipynb>data table notebook</a>'\n",
              "            + ' to learn more about interactive tables.';\n",
              "          element.innerHTML = '';\n",
              "          dataTable['output_type'] = 'display_data';\n",
              "          await google.colab.output.renderOutput(dataTable, element);\n",
              "          const docLink = document.createElement('div');\n",
              "          docLink.innerHTML = docLinkHtml;\n",
              "          element.appendChild(docLink);\n",
              "        }\n",
              "      </script>\n",
              "    </div>\n",
              "  </div>\n",
              "  "
            ],
            "text/plain": [
              "   Store       Date  Temperature  ...  Unemployment  Dept  Weekly_Sales\n",
              "0      1 2010-05-02        42.31  ...         8.106     1      24924.50\n",
              "1      1 2010-05-02        42.31  ...         8.106     2      50605.27\n",
              "2      1 2010-05-02        42.31  ...         8.106     3      13740.12\n",
              "3      1 2010-05-02        42.31  ...         8.106     4      39954.04\n",
              "4      1 2010-05-02        42.31  ...         8.106     5      32229.38\n",
              "\n",
              "[5 rows x 8 columns]"
            ]
          },
          "execution_count": 10,
          "metadata": {},
          "output_type": "execute_result"
        }
      ],
      "source": [
        "df = pd.merge(df_feat,df_sales, on=['Store','Date'])\n",
        "df.head(5)"
      ]
    },
    {
      "cell_type": "markdown",
      "metadata": {
        "id": "pFzAQu2Aq6VY"
      },
      "source": [
        "##Creating a holiday dataframe to help "
      ]
    },
    {
      "cell_type": "code",
      "execution_count": null,
      "metadata": {
        "id": "tCpNPCekaXpd"
      },
      "outputs": [],
      "source": [
        "# key range for holiday dictionary\n",
        "# 0. : memorial day, 1: Halloween, 2: Thanksgiving, 3: Black Friday, 4: Christmas, 5: NYE\n",
        "#Monday, May 31\n",
        "\n",
        "holiRange = [{'Holiday':'Memorial Day','Beg. Date':'2010-05-31', 'End Date': '2010-05-31'}\n",
        "             ,{'Holiday':'Halloween','Beg. Date':'2010-10-17', 'End Date': '2010-10-31'}\n",
        "             ,{'Holiday':'Thanksgiving','Beg. Date':'2010-11-11', 'End Date': '2010-11-25'}\n",
        "             ,{'Holiday':'Black Friday','Beg. Date':'2010-11-26', 'End Date': '2010-11-26'}\n",
        "             ,{'Holiday':'Christmas','Beg. Date':'2010-12-11', 'End Date': '2010-12-25'}\n",
        "             ,{'Holiday':'New Years Eve','Beg. Date':'2010-12-17', 'End Date': '2010-12-31'}]\n",
        "\n",
        "\n",
        "df_h = pd.DataFrame.from_records(holiRange)\n",
        "#giving custom unique keys\n",
        "df_h = pd.DataFrame.from_records(holiRange, index=['0', '1', '2','3','4','5'])\n",
        "df_h = pd.DataFrame.from_dict(holiRange, orient='columns')\n",
        "\n",
        "# Convert a list of dictionaries using json_normalize().\n",
        "df_h = pd.json_normalize(holiRange)\n",
        "\n",
        "df_h['Beg. Date'] = pd.to_datetime(df_h['Beg. Date'])\n",
        "df_h['End Date'] = pd.to_datetime(df_h['End Date'])"
      ]
    },
    {
      "cell_type": "code",
      "execution_count": null,
      "metadata": {
        "colab": {
          "background_save": true
        },
        "id": "jkjWkmeFcEGb"
      },
      "outputs": [],
      "source": [
        "IsHoliday = []\n",
        "Holiday = []\n",
        "for daye in df[\"Date\"]:\n",
        "  givDay = daye.day\n",
        "  givMonth = daye.month\n",
        "\n",
        "  for i in range(0,6):\n",
        "    startDate = df_h.iloc[i]['Beg. Date'].day\n",
        "\n",
        "    startMonth = df_h.iloc[i]['Beg. Date'].month\n",
        "    diff = givDay - startDate\n",
        "\n",
        "    if givMonth == startMonth: \n",
        "      if diff <= 14 and diff >= 0:\n",
        "        Holiday.append(df_h.iloc[i]['Holiday'])\n",
        "        IsHoliday.append(True)\n",
        "        break\n",
        "      elif i == 5:\n",
        "        Holiday.append('None')\n",
        "        IsHoliday.append(False)\n",
        "        break\n",
        "    elif i == 5: \n",
        "      Holiday.append('None')\n",
        "      IsHoliday.append(False)\n",
        "      break\n",
        "    else: \n",
        "      continue"
      ]
    },
    {
      "cell_type": "code",
      "execution_count": null,
      "metadata": {
        "id": "k_PevVaTkOne"
      },
      "outputs": [],
      "source": [
        "df['Holiday'] = Holiday\n",
        "df['IsHoliday'] = IsHoliday\n",
        "df['Day'] = df['Date'].dt.day\n",
        "df['Month'] = df['Date'].dt.month\n",
        "df['Year'] = df['Date'].dt.year"
      ]
    },
    {
      "cell_type": "code",
      "execution_count": null,
      "metadata": {
        "id": "X8-RAulkoP__"
      },
      "outputs": [],
      "source": [
        "df.head()\n",
        "df.to_csv(\"2010Retail.csv\")"
      ]
    },
    {
      "cell_type": "markdown",
      "metadata": {
        "id": "H62GlTkXs2hv"
      },
      "source": [
        "#Holidays & Weekly Sales analysis\n"
      ]
    },
    {
      "cell_type": "code",
      "execution_count": null,
      "metadata": {
        "id": "ByT3yEV6qlH9",
        "colab": {
          "base_uri": "https://localhost:8080/",
          "height": 305
        },
        "outputId": "768c2fad-d065-495f-9080-7ee93266d549"
      },
      "outputs": [
        {
          "output_type": "execute_result",
          "data": {
            "text/html": [
              "\n",
              "  <div id=\"df-c83ac3de-8937-4765-a2fe-3825933f2c84\">\n",
              "    <div class=\"colab-df-container\">\n",
              "      <div>\n",
              "<style scoped>\n",
              "    .dataframe tbody tr th:only-of-type {\n",
              "        vertical-align: middle;\n",
              "    }\n",
              "\n",
              "    .dataframe tbody tr th {\n",
              "        vertical-align: top;\n",
              "    }\n",
              "\n",
              "    .dataframe thead th {\n",
              "        text-align: right;\n",
              "    }\n",
              "</style>\n",
              "<table border=\"1\" class=\"dataframe\">\n",
              "  <thead>\n",
              "    <tr style=\"text-align: right;\">\n",
              "      <th></th>\n",
              "      <th>Store</th>\n",
              "      <th>Temperature</th>\n",
              "      <th>Fuel_Price</th>\n",
              "      <th>CPI</th>\n",
              "      <th>Unemployment</th>\n",
              "      <th>Dept</th>\n",
              "      <th>Weekly_Sales</th>\n",
              "      <th>IsHoliday</th>\n",
              "      <th>Day</th>\n",
              "      <th>Month</th>\n",
              "      <th>Year</th>\n",
              "    </tr>\n",
              "  </thead>\n",
              "  <tbody>\n",
              "    <tr>\n",
              "      <th>Black Friday</th>\n",
              "      <td>65217</td>\n",
              "      <td>139073.01</td>\n",
              "      <td>8576.822</td>\n",
              "      <td>4.941899e+05</td>\n",
              "      <td>24760.115</td>\n",
              "      <td>129373</td>\n",
              "      <td>6.582100e+07</td>\n",
              "      <td>2938</td>\n",
              "      <td>76388</td>\n",
              "      <td>32318</td>\n",
              "      <td>5905380</td>\n",
              "    </tr>\n",
              "    <tr>\n",
              "      <th>Christmas</th>\n",
              "      <td>196091</td>\n",
              "      <td>382395.05</td>\n",
              "      <td>26248.196</td>\n",
              "      <td>1.487297e+06</td>\n",
              "      <td>74537.653</td>\n",
              "      <td>389546</td>\n",
              "      <td>1.888770e+08</td>\n",
              "      <td>8843</td>\n",
              "      <td>153455</td>\n",
              "      <td>106116</td>\n",
              "      <td>17774430</td>\n",
              "    </tr>\n",
              "    <tr>\n",
              "      <th>Halloween</th>\n",
              "      <td>130057</td>\n",
              "      <td>343877.28</td>\n",
              "      <td>16742.673</td>\n",
              "      <td>9.872140e+05</td>\n",
              "      <td>49445.188</td>\n",
              "      <td>258193</td>\n",
              "      <td>8.666950e+07</td>\n",
              "      <td>5866</td>\n",
              "      <td>149576</td>\n",
              "      <td>58660</td>\n",
              "      <td>11790660</td>\n",
              "    </tr>\n",
              "    <tr>\n",
              "      <th>New Years Eve</th>\n",
              "      <td>65261</td>\n",
              "      <td>106207.76</td>\n",
              "      <td>8980.338</td>\n",
              "      <td>4.946418e+05</td>\n",
              "      <td>24827.347</td>\n",
              "      <td>129715</td>\n",
              "      <td>4.043252e+07</td>\n",
              "      <td>2943</td>\n",
              "      <td>91233</td>\n",
              "      <td>35316</td>\n",
              "      <td>5915430</td>\n",
              "    </tr>\n",
              "    <tr>\n",
              "      <th>None</th>\n",
              "      <td>2595072</td>\n",
              "      <td>7282268.13</td>\n",
              "      <td>328216.650</td>\n",
              "      <td>1.964138e+07</td>\n",
              "      <td>990103.566</td>\n",
              "      <td>5175622</td>\n",
              "      <td>1.861960e+09</td>\n",
              "      <td>0</td>\n",
              "      <td>1697346</td>\n",
              "      <td>720254</td>\n",
              "      <td>235517730</td>\n",
              "    </tr>\n",
              "  </tbody>\n",
              "</table>\n",
              "</div>\n",
              "      <button class=\"colab-df-convert\" onclick=\"convertToInteractive('df-c83ac3de-8937-4765-a2fe-3825933f2c84')\"\n",
              "              title=\"Convert this dataframe to an interactive table.\"\n",
              "              style=\"display:none;\">\n",
              "        \n",
              "  <svg xmlns=\"http://www.w3.org/2000/svg\" height=\"24px\"viewBox=\"0 0 24 24\"\n",
              "       width=\"24px\">\n",
              "    <path d=\"M0 0h24v24H0V0z\" fill=\"none\"/>\n",
              "    <path d=\"M18.56 5.44l.94 2.06.94-2.06 2.06-.94-2.06-.94-.94-2.06-.94 2.06-2.06.94zm-11 1L8.5 8.5l.94-2.06 2.06-.94-2.06-.94L8.5 2.5l-.94 2.06-2.06.94zm10 10l.94 2.06.94-2.06 2.06-.94-2.06-.94-.94-2.06-.94 2.06-2.06.94z\"/><path d=\"M17.41 7.96l-1.37-1.37c-.4-.4-.92-.59-1.43-.59-.52 0-1.04.2-1.43.59L10.3 9.45l-7.72 7.72c-.78.78-.78 2.05 0 2.83L4 21.41c.39.39.9.59 1.41.59.51 0 1.02-.2 1.41-.59l7.78-7.78 2.81-2.81c.8-.78.8-2.07 0-2.86zM5.41 20L4 18.59l7.72-7.72 1.47 1.35L5.41 20z\"/>\n",
              "  </svg>\n",
              "      </button>\n",
              "      \n",
              "  <style>\n",
              "    .colab-df-container {\n",
              "      display:flex;\n",
              "      flex-wrap:wrap;\n",
              "      gap: 12px;\n",
              "    }\n",
              "\n",
              "    .colab-df-convert {\n",
              "      background-color: #E8F0FE;\n",
              "      border: none;\n",
              "      border-radius: 50%;\n",
              "      cursor: pointer;\n",
              "      display: none;\n",
              "      fill: #1967D2;\n",
              "      height: 32px;\n",
              "      padding: 0 0 0 0;\n",
              "      width: 32px;\n",
              "    }\n",
              "\n",
              "    .colab-df-convert:hover {\n",
              "      background-color: #E2EBFA;\n",
              "      box-shadow: 0px 1px 2px rgba(60, 64, 67, 0.3), 0px 1px 3px 1px rgba(60, 64, 67, 0.15);\n",
              "      fill: #174EA6;\n",
              "    }\n",
              "\n",
              "    [theme=dark] .colab-df-convert {\n",
              "      background-color: #3B4455;\n",
              "      fill: #D2E3FC;\n",
              "    }\n",
              "\n",
              "    [theme=dark] .colab-df-convert:hover {\n",
              "      background-color: #434B5C;\n",
              "      box-shadow: 0px 1px 3px 1px rgba(0, 0, 0, 0.15);\n",
              "      filter: drop-shadow(0px 1px 2px rgba(0, 0, 0, 0.3));\n",
              "      fill: #FFFFFF;\n",
              "    }\n",
              "  </style>\n",
              "\n",
              "      <script>\n",
              "        const buttonEl =\n",
              "          document.querySelector('#df-c83ac3de-8937-4765-a2fe-3825933f2c84 button.colab-df-convert');\n",
              "        buttonEl.style.display =\n",
              "          google.colab.kernel.accessAllowed ? 'block' : 'none';\n",
              "\n",
              "        async function convertToInteractive(key) {\n",
              "          const element = document.querySelector('#df-c83ac3de-8937-4765-a2fe-3825933f2c84');\n",
              "          const dataTable =\n",
              "            await google.colab.kernel.invokeFunction('convertToInteractive',\n",
              "                                                     [key], {});\n",
              "          if (!dataTable) return;\n",
              "\n",
              "          const docLinkHtml = 'Like what you see? Visit the ' +\n",
              "            '<a target=\"_blank\" href=https://colab.research.google.com/notebooks/data_table.ipynb>data table notebook</a>'\n",
              "            + ' to learn more about interactive tables.';\n",
              "          element.innerHTML = '';\n",
              "          dataTable['output_type'] = 'display_data';\n",
              "          await google.colab.output.renderOutput(dataTable, element);\n",
              "          const docLink = document.createElement('div');\n",
              "          docLink.innerHTML = docLinkHtml;\n",
              "          element.appendChild(docLink);\n",
              "        }\n",
              "      </script>\n",
              "    </div>\n",
              "  </div>\n",
              "  "
            ],
            "text/plain": [
              "                 Store  Temperature  Fuel_Price  ...      Day   Month       Year\n",
              "Black Friday     65217    139073.01    8576.822  ...    76388   32318    5905380\n",
              "Christmas       196091    382395.05   26248.196  ...   153455  106116   17774430\n",
              "Halloween       130057    343877.28   16742.673  ...   149576   58660   11790660\n",
              "New Years Eve    65261    106207.76    8980.338  ...    91233   35316    5915430\n",
              "None           2595072   7282268.13  328216.650  ...  1697346  720254  235517730\n",
              "\n",
              "[5 rows x 11 columns]"
            ]
          },
          "metadata": {},
          "execution_count": 33
        }
      ],
      "source": [
        "holiSeries = df['IsHoliday']\n",
        "unemployementSeries = df['Unemployment']\n",
        "\n",
        "holiGroup = df.groupby(Holiday).sum()"
      ]
    },
    {
      "cell_type": "code",
      "execution_count": null,
      "metadata": {
        "id": "r3sEiHa7vwZk",
        "colab": {
          "base_uri": "https://localhost:8080/",
          "height": 494
        },
        "outputId": "670d60a0-c994-49b5-de7e-b8f3aa39ca78"
      },
      "outputs": [
        {
          "output_type": "display_data",
          "data": {
            "image/png": "[encoded data removed]",
            "text/plain": [
              "<Figure size 864x576 with 1 Axes>"
            ]
          },
          "metadata": {
            "needs_background": "light"
          }
        }
      ],
      "source": [
        "ax = holiGroup.plot.bar(y='Unemployment', rot=0, figsize = [12,8])"
      ]
    },
    {
      "cell_type": "code",
      "source": [
        "ax = holiGroup.plot.box(by='Price', figsize=(10, 8))"
      ],
      "metadata": {
        "colab": {
          "base_uri": "https://localhost:8080/",
          "height": 495
        },
        "id": "e5ipDN0GG2zN",
        "outputId": "6acbe01a-16d7-4b2a-9dbc-a6beada4fa1f"
      },
      "execution_count": null,
      "outputs": [
        {
          "output_type": "display_data",
          "data": {
            "image/png": "[encoded data removed]",
            "text/plain": [
              "<Figure size 720x576 with 1 Axes>"
            ]
          },
          "metadata": {
            "needs_background": "light"
          }
        }
      ]
    },
    {
      "cell_type": "code",
      "source": [
        ""
      ],
      "metadata": {
        "id": "0SP_YH01Idbi"
      },
      "execution_count": null,
      "outputs": []
    }
  ],
  "metadata": {
    "colab": {
      "collapsed_sections": [],
      "name": "mp_proj1.ipynb",
      "provenance": [],
      "include_colab_link": true
    },
    "kernelspec": {
      "display_name": "Python 3",
      "name": "python3"
    },
    "language_info": {
      "name": "python"
    }
  },
  "nbformat": 4,
  "nbformat_minor": 0
}